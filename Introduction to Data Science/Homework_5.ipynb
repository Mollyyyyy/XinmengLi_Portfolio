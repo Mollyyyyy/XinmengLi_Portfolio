{
 "cells": [
  {
   "cell_type": "markdown",
   "metadata": {},
   "source": [
    "# Introduction to Data Science\n",
    "## Homework 5"
   ]
  },
  {
   "cell_type": "markdown",
   "metadata": {},
   "source": [
    "Student Name: Xinmeng Li\n",
    "\n",
    "Student Netid: xl1575\n",
    "***"
   ]
  },
  {
   "cell_type": "markdown",
   "metadata": {},
   "source": [
    "### Part 1: Naive Bayes (5 Points)"
   ]
  },
  {
   "cell_type": "markdown",
   "metadata": {},
   "source": [
    "1\\. From your reading you know that the naive Bayes classifier works by calculating the conditional probabilities of each feature, $e_i$, occuring with each class $c$ and treating them independently. This results in the probability of a certain class occuring given a set of features, or a piece of evidence, $E$, as\n",
    "\n",
    "$$P(c \\mid E) = \\frac{p(e_1 \\mid c) \\cdot p(e_2 \\mid c) \\cdot \\cdot \\cdot p(e_k \\mid c) \\cdot p(c)}{p(E)}.$$\n",
    "\n",
    "The conditional probability of each piece of evidence occuring with a given class is given by\n",
    "\n",
    "$$P(e_i \\mid c) = \\frac{\\text{count}(e_i, c)}{\\text{count}(c)}.$$\n",
    "\n",
    "In the above equation $\\text{count}(e_i, c)$ is the number of documents in a given class that contain feature $e_i$ and $\\text{count}(c)$ is the number of documents that belong to class $c$. \n",
    "\n",
    "A common variation of the above is to use Laplace (sometimes called +1) smoothing. Recall the use of Laplace smoothing introduced toward the end of Chapter 3 in the section Probability Estimation. This is done in sklearn by setting `alpha=1` in the `BernoulliNB()` function (this is also the default behavior). The result of Laplace smoothing will slightly change the conditional probabilities,\n",
    "\n",
    "$$P(e_i \\mid c) = \\frac{\\text{count}(e_i, c) + 1}{\\text{count}(c) + 2}.$$\n",
    "\n",
    "In no more than **one paragraph**, describe why this is useful, and use the bias-variance tradeoff to justify its use. Try to think of a case when not using Laplace smoothing would result in \"bad\" models. Try to give an example. Be precise."
   ]
  },
  {
   "cell_type": "markdown",
   "metadata": {},
   "source": [
    "Example: Let's say given a sentence, we want to identify the character it describes is SpongeBob SquarePants or Patrick Star. Imagine a case that a word 'rock' in the test document does not exist in the vocabulary of the training set of Patrick Star, $P(rock|PS)$ and $P(PS|sentence)$ thus becomes 0. Consequently, the classifier loses information about other words, i.e. $P(PS|sentence)$ = 0 even though when the sentence contains words such as 'pink' or 'starfish'. Clearly, Patrick Star lives under a rock and it is likely that 'rock' occurs in the description. To avoid this senario, we use laplace smoothing, which garantees that the count of each word is at least 1. We add 2 to the denominator to ensure that the probability of all of the classes still sum to 1. There are a lot of words that just occured a few times, and thus their $P(e_i \\mid c)$ are small when alpha is small. As a result, small changes to $P(e_i \\mid c)$ could lead to a dramatic change of $P(c|E)$. For example, divide it or subtract it so that $P(e_i \\mid c)$ is close or equal to 0. This is a high variance low bias situation. When alpha is large, i.e. alpha >> count(e,c), for a fixed class, the value of $P(e_i \\mid c)$ almost keeps constant across all of the words. The value of count(e,c) has little effect on $P(e_i \\mid c)$. This is a low variance but high bias situation. To avoid these two cases we use cross validation to find the optimal alpha in practice."
   ]
  },
  {
   "cell_type": "markdown",
   "metadata": {},
   "source": [
    "### Part 2: Text classification for sentiment analysis (20 Points)\n",
    "For this part of the assignment, we are going to use a data set of movie ratings from IMDB.com. The data consists of the text of a movie review and a target variable which tells us whether the reviewer had a positive feeling towards the movie (equivalent to rating the movie between 7 and 10) or a negative feeling (rating the movie between 1 and 4). Neutral reactions are not included in the data.\n",
    "\n",
    "The first column is the review text; the second is the text label 'P' for positive or 'N' for negative."
   ]
  },
  {
   "cell_type": "markdown",
   "metadata": {},
   "source": [
    "1 (1 Point) \\. Load the data into a pandas `DataFrame()`."
   ]
  },
  {
   "cell_type": "code",
   "execution_count": 82,
   "metadata": {},
   "outputs": [
    {
     "data": {
      "text/html": [
       "<div>\n",
       "<style scoped>\n",
       "    .dataframe tbody tr th:only-of-type {\n",
       "        vertical-align: middle;\n",
       "    }\n",
       "\n",
       "    .dataframe tbody tr th {\n",
       "        vertical-align: top;\n",
       "    }\n",
       "\n",
       "    .dataframe thead th {\n",
       "        text-align: right;\n",
       "    }\n",
       "</style>\n",
       "<table border=\"1\" class=\"dataframe\">\n",
       "  <thead>\n",
       "    <tr style=\"text-align: right;\">\n",
       "      <th></th>\n",
       "      <th>Text</th>\n",
       "      <th>Class</th>\n",
       "    </tr>\n",
       "  </thead>\n",
       "  <tbody>\n",
       "    <tr>\n",
       "      <td>0</td>\n",
       "      <td>'One of the first of the best musicals Anchors...</td>\n",
       "      <td>P</td>\n",
       "    </tr>\n",
       "    <tr>\n",
       "      <td>1</td>\n",
       "      <td>'Visually disjointed and full of itself the di...</td>\n",
       "      <td>N</td>\n",
       "    </tr>\n",
       "    <tr>\n",
       "      <td>2</td>\n",
       "      <td>'These type of movies about young teenagers st...</td>\n",
       "      <td>P</td>\n",
       "    </tr>\n",
       "    <tr>\n",
       "      <td>3</td>\n",
       "      <td>'I would rather of had my eyes gouged out with...</td>\n",
       "      <td>N</td>\n",
       "    </tr>\n",
       "    <tr>\n",
       "      <td>4</td>\n",
       "      <td>'The title says it all. Tail Gunner Joe was a ...</td>\n",
       "      <td>N</td>\n",
       "    </tr>\n",
       "  </tbody>\n",
       "</table>\n",
       "</div>"
      ],
      "text/plain": [
       "                                                Text Class\n",
       "0  'One of the first of the best musicals Anchors...     P\n",
       "1  'Visually disjointed and full of itself the di...     N\n",
       "2  'These type of movies about young teenagers st...     P\n",
       "3  'I would rather of had my eyes gouged out with...     N\n",
       "4  'The title says it all. Tail Gunner Joe was a ...     N"
      ]
     },
     "execution_count": 82,
     "metadata": {},
     "output_type": "execute_result"
    }
   ],
   "source": [
    "# Code here\n",
    "import pandas as pd\n",
    "import numpy as np\n",
    "data = pd.read_csv(\"imdb.csv\")\n",
    "data.head()"
   ]
  },
  {
   "cell_type": "markdown",
   "metadata": {},
   "source": [
    "2 (1 Point)\\. Code the target variable to be numeric: use the value `1` to represent 'P' and `0` to represent 'N'."
   ]
  },
  {
   "cell_type": "code",
   "execution_count": 83,
   "metadata": {},
   "outputs": [
    {
     "data": {
      "text/html": [
       "<div>\n",
       "<style scoped>\n",
       "    .dataframe tbody tr th:only-of-type {\n",
       "        vertical-align: middle;\n",
       "    }\n",
       "\n",
       "    .dataframe tbody tr th {\n",
       "        vertical-align: top;\n",
       "    }\n",
       "\n",
       "    .dataframe thead th {\n",
       "        text-align: right;\n",
       "    }\n",
       "</style>\n",
       "<table border=\"1\" class=\"dataframe\">\n",
       "  <thead>\n",
       "    <tr style=\"text-align: right;\">\n",
       "      <th></th>\n",
       "      <th>Text</th>\n",
       "      <th>Class</th>\n",
       "      <th>Target</th>\n",
       "    </tr>\n",
       "  </thead>\n",
       "  <tbody>\n",
       "    <tr>\n",
       "      <td>0</td>\n",
       "      <td>'One of the first of the best musicals Anchors...</td>\n",
       "      <td>P</td>\n",
       "      <td>1</td>\n",
       "    </tr>\n",
       "    <tr>\n",
       "      <td>1</td>\n",
       "      <td>'Visually disjointed and full of itself the di...</td>\n",
       "      <td>N</td>\n",
       "      <td>0</td>\n",
       "    </tr>\n",
       "    <tr>\n",
       "      <td>2</td>\n",
       "      <td>'These type of movies about young teenagers st...</td>\n",
       "      <td>P</td>\n",
       "      <td>1</td>\n",
       "    </tr>\n",
       "    <tr>\n",
       "      <td>3</td>\n",
       "      <td>'I would rather of had my eyes gouged out with...</td>\n",
       "      <td>N</td>\n",
       "      <td>0</td>\n",
       "    </tr>\n",
       "    <tr>\n",
       "      <td>4</td>\n",
       "      <td>'The title says it all. Tail Gunner Joe was a ...</td>\n",
       "      <td>N</td>\n",
       "      <td>0</td>\n",
       "    </tr>\n",
       "  </tbody>\n",
       "</table>\n",
       "</div>"
      ],
      "text/plain": [
       "                                                Text Class  Target\n",
       "0  'One of the first of the best musicals Anchors...     P       1\n",
       "1  'Visually disjointed and full of itself the di...     N       0\n",
       "2  'These type of movies about young teenagers st...     P       1\n",
       "3  'I would rather of had my eyes gouged out with...     N       0\n",
       "4  'The title says it all. Tail Gunner Joe was a ...     N       0"
      ]
     },
     "execution_count": 83,
     "metadata": {},
     "output_type": "execute_result"
    }
   ],
   "source": [
    "# Code here\n",
    "data['Target']=[ 1 if d=='P' else 0 for d in data['Class']]\n",
    "data.head()"
   ]
  },
  {
   "cell_type": "markdown",
   "metadata": {},
   "source": [
    "3 (2 Points)\\. Put all of the text into a data frame called `X` and the target variable in a data frame called `Y`. Make a train/test split where you give 75% of the data to training. Feel free to use any function from sklearn."
   ]
  },
  {
   "cell_type": "code",
   "execution_count": 84,
   "metadata": {},
   "outputs": [],
   "source": [
    "#Code here\n",
    "X = data['Text']\n",
    "Y = data['Target']\n",
    "from sklearn.model_selection import train_test_split\n",
    "X_train, X_test, Y_train, Y_test = train_test_split(X, Y, train_size = 0.75)"
   ]
  },
  {
   "cell_type": "markdown",
   "metadata": {},
   "source": [
    "4 (5 Points)\\. Create a binary `CountVectorizer()` and a binary `TfidfVectorizer()`. Use the original single words as well as bigrams (in the same model). Also, use an \"english\" stop word list. Fit these to the training data to extract a vocabulary and then transform both the train and test data. Hint - look at the API documentation for both vectorizers to see what we mean by \"binary.\""
   ]
  },
  {
   "cell_type": "code",
   "execution_count": 85,
   "metadata": {},
   "outputs": [],
   "source": [
    "from sklearn.feature_extraction.text import CountVectorizer\n",
    "from sklearn.feature_extraction.text import TfidfVectorizer\n",
    "vectorizer = CountVectorizer(stop_words = 'english',ngram_range = (1,2),binary=True)\n",
    "X_train_countv = vectorizer.fit_transform(X_train)\n",
    "X_test_countv = vectorizer.transform(X_test)\n",
    "vectorizer2 = TfidfVectorizer(stop_words = 'english',ngram_range = (1,2),binary=True)\n",
    "X_train_tfidfv = vectorizer2.fit_transform(X_train)\n",
    "X_test_tfidfv = vectorizer2.transform(X_test)"
   ]
  },
  {
   "cell_type": "markdown",
   "metadata": {},
   "source": [
    "5 (6 Points)\\. Create `LogisticRegression()` and `BernoulliNB()` models. For all settings, keep the default values. In a single plot, show the AUC curve for both classifiers and both vectorizers defined above. In the legend, include the area under the ROC curve (AUC). Do not forget to label your axes. Your final plot will be a single window with 4 curves.\n",
    "\n",
    "Which model do you think does a better job? Why? Explain in no more than a paragraph.\n",
    "\n",
    "Extra credit (2 points): Do any of the options perform identically? If so, can you explain why?"
   ]
  },
  {
   "cell_type": "code",
   "execution_count": 86,
   "metadata": {},
   "outputs": [],
   "source": [
    "# Run this so your plots show properly\n",
    "import matplotlib.pyplot as plt\n",
    "%matplotlib inline\n",
    "plt.rcParams['figure.figsize'] = 12, 12"
   ]
  },
  {
   "cell_type": "code",
   "execution_count": 87,
   "metadata": {},
   "outputs": [
    {
     "name": "stderr",
     "output_type": "stream",
     "text": [
      "/Users/apple/opt/anaconda3/lib/python3.7/site-packages/sklearn/linear_model/logistic.py:432: FutureWarning: Default solver will be changed to 'lbfgs' in 0.22. Specify a solver to silence this warning.\n",
      "  FutureWarning)\n",
      "/Users/apple/opt/anaconda3/lib/python3.7/site-packages/sklearn/linear_model/logistic.py:432: FutureWarning: Default solver will be changed to 'lbfgs' in 0.22. Specify a solver to silence this warning.\n",
      "  FutureWarning)\n"
     ]
    },
    {
     "data": {
      "image/png": "[encoded data removed]",
      "text/plain": [
       "<Figure size 864x864 with 1 Axes>"
      ]
     },
     "metadata": {
      "needs_background": "light"
     },
     "output_type": "display_data"
    }
   ],
   "source": [
    "from sklearn.linear_model import LogisticRegression\n",
    "from sklearn.naive_bayes import BernoulliNB\n",
    "from sklearn import metrics\n",
    "from sklearn.metrics import roc_curve\n",
    "from sklearn.metrics import roc_auc_score\n",
    "# Code here\n",
    "for i in range(2):\n",
    "    for j in range(2):\n",
    "        info = \"\"\n",
    "        if i==1:\n",
    "            clf = LogisticRegression()\n",
    "            info+=\"Logistic Regression, \"\n",
    "        else:\n",
    "            clf = BernoulliNB()\n",
    "            info+=\"Naive Bayes, \"\n",
    "        if j==1:\n",
    "            X_train_v = X_train_countv\n",
    "            X_test_v = X_test_countv\n",
    "            info+=\"CountVectorizer, \"\n",
    "        else:\n",
    "            X_train_v = X_train_tfidfv\n",
    "            X_test_v = X_test_tfidfv\n",
    "            info+=\"TfidfVectorizer, \"\n",
    "            \n",
    "        clf.fit(X_train_v,Y_train)\n",
    "        probs = clf.predict_proba(X_test_v)\n",
    "        probs = probs[:, 1]\n",
    "        auc = roc_auc_score(Y_test, probs)\n",
    "        auc = roc_auc_score(Y_test, probs)\n",
    "        fpr, tpr, _ = roc_curve(Y_test, probs)\n",
    "        plt.plot(fpr, tpr,label=info+'AUC: %.2f' % auc)\n",
    "# axis labels\n",
    "plt.xlabel('False Positive Rate')\n",
    "plt.ylabel('True Positive Rate')\n",
    "# show the legend\n",
    "plt.legend()\n",
    "# show the plot\n",
    "plt.show()"
   ]
  },
  {
   "cell_type": "markdown",
   "metadata": {},
   "source": [
    "Based on the AUC score, naive bayes(0.92) performs worse than logistic regression(0.94) with both count and tf-idf vectorizers. This might because naive bayes strongly assumes that each feature, i.e.word is independent of others, and this assumption cannot be true in the real world language. We observe that when the false positive rate is around 0.1~0.2, the red curve of logistic regression+countvectorizer is above the green curve of logistic regression+tfidfvectorizer, which indicates that if the false positive rates of these two models are same, logistic regression+countvectorizer model has a higher rate of correctly identifing positive labels. Therefore, logistic regression+countvectorizer model is the best among these four models. "
   ]
  },
  {
   "cell_type": "markdown",
   "metadata": {},
   "source": [
    "Extra credit: The Naive Bayes performs identically on these two types of vectorizers. They have the same AUC score, and their curves totally overlap. We cannot even see the blue curve of naive bayes+tfidfvectorizer under the orange curve of naive bayes+countvectorizer. (Note: To make sure the blue line does exist, I plotted it with dot marker. It turns out that the track of the blue dots overlap with the orange curve.) Logically, tfidf vectorizer filters out words that occur frequently but have little information, so these two vectorizers should lead to different performances. Since we have filtered out uninformative stopwords before the transformation, and naive bayes calculating conditional probaility of each feature occuring with each class, these two models almost have identical curves."
   ]
  },
  {
   "cell_type": "markdown",
   "metadata": {
    "collapsed": true
   },
   "source": [
    "5\\. Use the model from question 4 that you think did the best job and predict the rating of the test data. Find 5 examples were labeled positive, but were incorrectly classified as negative. Print out the reviews below and include an explanation as to why you think it may have been incorrectly classified. You can pick any 5. They do not have to be at random."
   ]
  },
  {
   "cell_type": "code",
   "execution_count": 88,
   "metadata": {},
   "outputs": [
    {
     "name": "stderr",
     "output_type": "stream",
     "text": [
      "/Users/apple/opt/anaconda3/lib/python3.7/site-packages/sklearn/linear_model/logistic.py:432: FutureWarning: Default solver will be changed to 'lbfgs' in 0.22. Specify a solver to silence this warning.\n",
      "  FutureWarning)\n"
     ]
    }
   ],
   "source": [
    "# Code here to display 5 incorrect reviews.\n",
    "clf = LogisticRegression()\n",
    "clf.fit(X_train_countv,Y_train)\n",
    "result = clf.predict(X_test_countv)"
   ]
  },
  {
   "cell_type": "code",
   "execution_count": 130,
   "metadata": {},
   "outputs": [
    {
     "name": "stdout",
     "output_type": "stream",
     "text": [
      "'WOW! What - a - movie !!!!!!!!!!! Im not at all a fan of contemporary Italian directors. Usually I dont like dramas. I am not a Will Smith super fan even thinking that he is a very good actor......but this movie ! It is such a great movie with a such original script and so good direction and so well acting...wow...it is stunning. This movie captured my attention minute by minute and I even did not like The pursuit of happiness (maybe also because i did not like the acting of Wills son who is a very bad actor while children usually seems all natural born actors I saw him also last night in The day the earth stood still and I confirmed my sensation that Jaden cant act). I dont want to write spoilers and so i dont talk about the story but what I can say is that this movie talks about Love Death and other feelings which i dont like to watch in movies....but THIS MOVIE is such a super great movie. If you have a minimum of heart youll dont regret watching it'\n",
      "'after seeing this film for the 3rd time now i think it is almost Adams worst film PUNCH DRUNK LOVE IS POOR in comparison to this i must say at the end when Dickie gets thrown of the boat it is so funny (the hair is different to his and i like it when he flips everyone off. This film should only be brought if your a true Adam Sandler fan. the characters are poor in comparison to his funny films like the Waterboy which has the same people in it (Peter Dante) who is one of the assassins trying to kill the Australian bird. this film lack depth and a decent story line and deserves to be in the bottom 100'\n",
      "'I just got this video used and I was watching it last night. The acting started out extremely bad (hey------hey------twister) but got very good soon after wards. The tornadoes looked extremely fake and many of the CGI effects were very dodgy but the scene with the house cracking apart and the contents inside being blown around and sucked out were extremely well done and just about on par with movies like Twister. The scenes of devastation were also extremely well done too. The story was very well written and its refreshing to see a movie like this stray away from the same old disaster formulas movies of this genre seems to have been stuck in for 30 years. While this movie had a very weird mix of FX and acting quality this merits an A in my book.'\n",
      "'The Ladies Man suffers a common problem among movies based on Saturday Night Live skits. And that is a sketch that usually succeeds in five minutes will not do so well in ninety minutes. Although this movie does have its laughs like Tim Meadows as Leon Phelps a sex-maniac straight out of the 70s and Will Ferrell as a wrestling-obsessed husband cuckolded by Leon. So this movie is funny enough but its no Waynes World!'\n",
      "'If you want Scream or anything like the big-studio horror product that we get forced on us these days dont bother. This well-written film kept me up thinking about all it had to say. Importance of myth in our lives to make it make sense how children interpret the world (and the violence in it) our ransacking of the environment and ignorance of its history and legends.. all here but not flatly on the surface. You could technically call it a monster movie even though the Wendigo does not take physical form until the end and then its even up to you and your beliefs as to whats happening with the legendary spirit/beast. Some standard thriller elements for those looking just for the basics and the film never bores though in fact the less you see of the creature the better. Fessenden successfully continues George Romeros tradition of using the genre as parable and as a discussion forum while still keeping us creeped out.'\n"
     ]
    }
   ],
   "source": [
    "n = 0\n",
    "for i in range(0,len(result)):\n",
    "    if result[i]==0 and Y_test.iloc[i]==1:\n",
    "        if 'like' in X_test.iloc[i] and len(X_test.iloc[i])<1000:\n",
    "            print(X_test.iloc[i])\n",
    "            n+=1\n",
    "    if n==5:\n",
    "        break"
   ]
  },
  {
   "cell_type": "markdown",
   "metadata": {},
   "source": [
    "Based on the analysis below, we found out that in most cases, misclassified reviews contain many negative words such as not, or words with negative meaning such as worst, which provide misleading information to the model prediction. Consequently, although there also exist some positive words such as great and well written in their reviews, the model tends to classify these reviews as nagative label. <br>1.The user uses a lot of negative descriptions including 'Im not at all a fan','Usually I dont like dramas. I am not a Will Smith super fan','I even did not like The pursuit of happiness', and 'feelings which i dont like to watch in movies', and much less postive sentences such as 'so good direction and so well acting' and 'such a super great movie'<br>2.This review contains strongly negative words such as 'worst','poor' and 'bottom'. It seems like the reviewer is a fan of Adam Sandler, which explains the reason why the review is critical but the rating is high. It would be hard to improve model's performance on classifying this type of reviews, as the label is not consistent with the emotion of the language. <br>3.This review contains a mix of negative words such as 'extremely bad','extremely fake' and positive words such as 'extremely well done','very well written', which makes it hard for the model to identify the reviewer's attitude.<br>4. The user admits the movie is funny and this is the reason why a high rating is given, but this review is mainly about the problems of the movie, which is misleading. <br>5.This review does not have many strongly negative or positive words. Therefore, it does not have a strong tendacy to a label, and the model is likely to make a wrong decision in this case.<br>"
   ]
  }
 ],
 "metadata": {
  "anaconda-cloud": {},
  "kernelspec": {
   "display_name": "Python 3",
   "language": "python",
   "name": "python3"
  },
  "language_info": {
   "codemirror_mode": {
    "name": "ipython",
    "version": 3
   },
   "file_extension": ".py",
   "mimetype": "text/x-python",
   "name": "python",
   "nbconvert_exporter": "python",
   "pygments_lexer": "ipython3",
   "version": "3.7.4"
  }
 },
 "nbformat": 4,
 "nbformat_minor": 1
}
