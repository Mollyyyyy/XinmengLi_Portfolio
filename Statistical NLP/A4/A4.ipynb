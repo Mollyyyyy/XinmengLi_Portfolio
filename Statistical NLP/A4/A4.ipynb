{
 "cells": [
  {
   "cell_type": "code",
   "execution_count": 1,
   "metadata": {},
   "outputs": [],
   "source": [
    "from __future__ import division\n",
    "import sys, re, json\n",
    "from collections import defaultdict\n",
    "\n",
    "\"\"\"\n",
    "Evaluate a set of test alignments versus the gold set. \n",
    "\"\"\"\n",
    "\n",
    "\n",
    "class ParseError(Exception):\n",
    "  def __init__(self, value):\n",
    "    self.value = value\n",
    "    \n",
    "  def __str__(self):\n",
    "    return self.value\n",
    "\n",
    "class FScore:\n",
    "  \"Compute F1-Score based on gold set and test set.\"\n",
    "\n",
    "  def __init__(self):\n",
    "    self.gold = 0\n",
    "    self.test = 0\n",
    "    self.correct = 0\n",
    "\n",
    "  def increment(self, gold_set, test_set):\n",
    "    \"Add examples from sets.\"\n",
    "    self.gold += len(gold_set)\n",
    "    self.test += len(test_set)\n",
    "    self.correct += len(gold_set & test_set)\n",
    "\n",
    "  def fscore(self): \n",
    "    pr = self.precision() + self.recall()\n",
    "    if pr == 0: return 0.0\n",
    "    return (2 * self.precision() * self.recall()) / pr\n",
    "\n",
    "  def precision(self): \n",
    "    if self.test == 0: return 0.0\n",
    "    return self.correct / self.test\n",
    "\n",
    "  def recall(self): \n",
    "    if self.gold == 0: return 0.0\n",
    "    return self.correct / self.gold    \n",
    "\n",
    "  @staticmethod\n",
    "  def output_header():\n",
    "    \"Output a scoring header.\"\n",
    "    print (\"%10s  %10s  %10s  %10s   %10s\"%(\n",
    "      \"Type\", \"Total\", \"Precision\", \"Recall\", \"F1-Score\"))\n",
    "    print (\"===============================================================\")\n",
    "\n",
    "  def output_row(self, name):\n",
    "    \"Output a scoring row.\"\n",
    "    print (\"%10s        %4d     %0.3f        %0.3f        %0.3f\"%(\n",
    "      name, self.gold, self.precision(), self.recall(), self.fscore()))\n",
    "\n",
    "class CorpusAlignment:\n",
    "  \"Read in the alignment.\"\n",
    "  def __init__(self, handle):\n",
    "    self.all_align = set()\n",
    "    self.sents_align = {}\n",
    "\n",
    "    for l in handle:\n",
    "      t = l.strip().split()\n",
    "      if len(t) != 3: \n",
    "        raise ParseError(\"Alignment must have three columns. %s\"%l)\n",
    "      try:\n",
    "        sent = int(t[0])\n",
    "        align = (int(t[1]), int(t[2]))\n",
    "        self.all_align.add((sent, align))\n",
    "      except:\n",
    "        raise ParseError(\"Alignment line must be integers. %s\"%l)\n",
    "\n",
    "  @staticmethod\n",
    "  def compute_fscore(align1, align2):\n",
    "    fscore = FScore()\n",
    "    fscore.increment(align1.all_align, align2.all_align)\n",
    "    return fscore\n",
    "\n",
    "def main(gold_alignment, test_alignment):\n",
    "  align1 = CorpusAlignment(gold_alignment)\n",
    "  align2 = CorpusAlignment(test_alignment)\n",
    "  fscore = CorpusAlignment.compute_fscore(align1, align2)\n",
    "  FScore.output_header()\n",
    "  fscore.output_row(\"total\")"
   ]
  },
  {
   "cell_type": "markdown",
   "metadata": {},
   "source": [
    "Initialize t(f|e)"
   ]
  },
  {
   "cell_type": "code",
   "execution_count": 2,
   "metadata": {},
   "outputs": [],
   "source": [
    "ine = open(\"corpus.en\",\"r\")\n",
    "corpuse = []\n",
    "for e in ine:\n",
    "    e = e.split()\n",
    "    corpuse.append(e)\n",
    "corpusf = []   \n",
    "inf = open(\"corpus.es\",\"r\")\n",
    "for f in inf:\n",
    "    f = f.split()\n",
    "    corpusf.append(f)"
   ]
  },
  {
   "cell_type": "code",
   "execution_count": 3,
   "metadata": {},
   "outputs": [
    {
     "name": "stdout",
     "output_type": "stream",
     "text": [
      "(5401, 5401)\n"
     ]
    }
   ],
   "source": [
    "print(len(corpuse),len(corpusf))"
   ]
  },
  {
   "cell_type": "code",
   "execution_count": 4,
   "metadata": {},
   "outputs": [],
   "source": [
    "t1 = {}\n",
    "t1['_NULL_'] = {}\n",
    "for f in corpusf:\n",
    "    for w in f:\n",
    "        if w not in t1['_NULL_']:\n",
    "            t1['_NULL_'][w] = 0\n",
    "\n",
    "for w in t1['_NULL_']:\n",
    "    t1['_NULL_'][w] = 1.0/(1.0*len(t1['_NULL_']))\n",
    "\n",
    "for i in range(0,len(corpuse)):\n",
    "    e = corpuse[i]\n",
    "    f = corpusf[i]\n",
    "    for w in e:\n",
    "        if w not in t1:\n",
    "            t1[w] = {}\n",
    "        for fw in f:\n",
    "            if fw not in t1[w]:\n",
    "                t1[w][fw] = 0\n",
    "\n",
    "for k in t1:\n",
    "    for w in t1[k]:\n",
    "        t1[k][w] = 1/len(t1[k])"
   ]
  },
  {
   "cell_type": "markdown",
   "metadata": {},
   "source": [
    "IBM1"
   ]
  },
  {
   "cell_type": "code",
   "execution_count": 8,
   "metadata": {},
   "outputs": [],
   "source": [
    "def initc():\n",
    "    c1 = {}\n",
    "    c2 = {}\n",
    "    c3 = {}\n",
    "    c4 = {}\n",
    "    for k in range(0,len(corpuse)):\n",
    "        e = corpuse[k]\n",
    "        f = corpusf[k]\n",
    "        for i in range(0,len(f)):\n",
    "            if '_NULL_' not in c1:\n",
    "                c1['_NULL_'] = 0\n",
    "            if '_NULL_' not in c2:\n",
    "                c2['_NULL_'] = {}\n",
    "            if f[i] not in c2['_NULL_']:\n",
    "                c2['_NULL_'][f[i]] = 0\n",
    "            if (i+1,len(e),len(f)) not in c3:\n",
    "                c3[(i+1,len(e),len(f))] = 0\n",
    "            if (i+1,len(e),len(f)) not in c4:\n",
    "                c4[(i+1,len(e),len(f))] = {}\n",
    "            if 0 not in c4[(i+1,len(e),len(f))]:\n",
    "                c4[i+1,len(e),len(f)][0]=0\n",
    "            for j in range(0,len(e)):\n",
    "                if e[j] not in c1:\n",
    "                    c1[e[j]] = 0\n",
    "                if e[j] not in c2:\n",
    "                    c2[e[j]] = {}\n",
    "                if f[i] not in c2[e[j]]:\n",
    "                    c2[e[j]][f[i]] = 0\n",
    "                if (i+1,len(e),len(f)) not in c3:\n",
    "                    c3[(i+1,len(e),len(f))] = 0\n",
    "                if (i+1,len(e),len(f)) not in c4:\n",
    "                    c4[(i+1,len(e),len(f))] = {}\n",
    "                if (j+1) not in c4[(i+1,len(e),len(f))]:\n",
    "                    c4[i+1,len(e),len(f)][j+1]=0\n",
    "    return c1,c2,c3,c4"
   ]
  },
  {
   "cell_type": "code",
   "execution_count": 10,
   "metadata": {},
   "outputs": [],
   "source": [
    "deve = open(\"dev.en\",\"r\")\n",
    "devcorpuse = []\n",
    "for e in deve:\n",
    "    e = e.split()\n",
    "    devcorpuse.append(e)\n",
    "devcorpusf = []   \n",
    "devf = open(\"dev.es\",\"r\")\n",
    "for f in devf:\n",
    "    f = f.split()\n",
    "    devcorpusf.append(f)"
   ]
  },
  {
   "cell_type": "code",
   "execution_count": 11,
   "metadata": {},
   "outputs": [
    {
     "name": "stdout",
     "output_type": "stream",
     "text": [
      "(200, 200)\n"
     ]
    }
   ],
   "source": [
    "print(len(devcorpuse),len(devcorpusf))"
   ]
  },
  {
   "cell_type": "code",
   "execution_count": 9,
   "metadata": {},
   "outputs": [],
   "source": [
    "def evaluate (index):\n",
    "    file = \"dev\"+str(index)+\".out\"\n",
    "    out1 = open(file,'w')\n",
    "    for k in range(0,len(devcorpuse)):\n",
    "        e = devcorpuse[k]\n",
    "        f = devcorpusf[k]\n",
    "        for i in range(0,len(f)):\n",
    "            maxt = t1['_NULL_'][f[i]]\n",
    "            maxj = 0\n",
    "            for j in range(0,len(e)):\n",
    "                if t1[e[j]][f[i]] > maxt:\n",
    "                    maxt =  t1[e[j]][f[i]]\n",
    "                    maxj = j+1\n",
    "            out1.write(str(k+1)+' '+str(maxj)+' '+str(i+1)+'\\n')\n",
    "    out1.close()\n",
    "    main(open(\"dev.key\"), open(file)) "
   ]
  },
  {
   "cell_type": "code",
   "execution_count": 12,
   "metadata": {},
   "outputs": [
    {
     "name": "stdout",
     "output_type": "stream",
     "text": [
      "      Type       Total   Precision      Recall     F1-Score\n",
      "===============================================================\n",
      "     total        5920     0.211        0.217        0.214\n",
      "      Type       Total   Precision      Recall     F1-Score\n",
      "===============================================================\n",
      "     total        5920     0.375        0.387        0.380\n",
      "      Type       Total   Precision      Recall     F1-Score\n",
      "===============================================================\n",
      "     total        5920     0.402        0.415        0.408\n",
      "      Type       Total   Precision      Recall     F1-Score\n",
      "===============================================================\n",
      "     total        5920     0.410        0.423        0.416\n",
      "      Type       Total   Precision      Recall     F1-Score\n",
      "===============================================================\n",
      "     total        5920     0.413        0.427        0.420\n"
     ]
    }
   ],
   "source": [
    "for index in range(0,5):\n",
    "    c1,c2,c3,c4 = initc()\n",
    "    for k in range(0,len(corpuse)):\n",
    "        e = corpuse[k]\n",
    "        f = corpusf[k]\n",
    "        for i in range(0,len(f)):\n",
    "            s = t1['_NULL_'][f[i]]\n",
    "            for w in e:\n",
    "                s = s+ t1[w][f[i]]\n",
    "            delta = 1.0*t1['_NULL_'][f[i]]/(1.0*s)\n",
    "            c1['_NULL_'] = c1['_NULL_']+delta\n",
    "            c2['_NULL_'][f[i]] = c2['_NULL_'][f[i]]+delta\n",
    "            for j in range(0,len(e)):\n",
    "                delta = 1.0*t1[e[j]][f[i]]/(1.0*s)\n",
    "                c1[e[j]] = c1[e[j]]+delta\n",
    "                c2[e[j]][f[i]] = c2[e[j]][f[i]]+delta\n",
    "    for e in t1:\n",
    "        for f in t1[e]:\n",
    "            t1[e][f] = 1.0*c2[e][f]/(1.0*c1[e])\n",
    "    evaluate(index)"
   ]
  },
  {
   "cell_type": "markdown",
   "metadata": {},
   "source": [
    "IBM2"
   ]
  },
  {
   "cell_type": "code",
   "execution_count": 13,
   "metadata": {},
   "outputs": [],
   "source": [
    "q2 = {}\n",
    "for k in range(0,len(corpuse)):\n",
    "        e = corpuse[k]\n",
    "        f = corpusf[k]\n",
    "        for i in range(0,len(f)):\n",
    "            if (i+1,len(e),len(f)) not in q2:\n",
    "                q2[(i+1,len(e),len(f))] = {}\n",
    "            if 0 not in q2[(i+1,len(e),len(f))]:\n",
    "                q2[(i+1,len(e),len(f))][0]=1.0/((len(e)+1)*1.0)\n",
    "            for j in range(0,len(e)):\n",
    "                if (j+1) not in q2[(i+1,len(e),len(f))]:\n",
    "                    q2[(i+1,len(e),len(f))][j+1]=1.0/((len(e)+1)*1.0)"
   ]
  },
  {
   "cell_type": "code",
   "execution_count": 15,
   "metadata": {},
   "outputs": [],
   "source": [
    "def evaluateIBM2(index):\n",
    "    file = \"devIBM2\"+str(index)+\".out\"\n",
    "    out2 = open(file,'w')\n",
    "    for k in range(0,len(devcorpuse)):\n",
    "        e = devcorpuse[k]\n",
    "        f = devcorpusf[k]\n",
    "        for i in range(0,len(f)):\n",
    "            maxqt = q2[(i+1,len(e),len(f))][0]*t2['_NULL_'][f[i]]\n",
    "            maxj = 0\n",
    "            for j in range(0,len(e)):\n",
    "                if q2[(i+1,len(e),len(f))][j+1]*t2[e[j]][f[i]] > maxqt:\n",
    "                    maxqt =  q2[(i+1,len(e),len(f))][j+1]*t2[e[j]][f[i]]\n",
    "                    maxj = j+1\n",
    "            out2.write(str(k+1)+' '+str(maxj)+' '+str(i+1)+'\\n')\n",
    "    out2.close()\n",
    "    main(open(\"dev.key\"), open(file)) "
   ]
  },
  {
   "cell_type": "code",
   "execution_count": 16,
   "metadata": {},
   "outputs": [
    {
     "name": "stdout",
     "output_type": "stream",
     "text": [
      "      Type       Total   Precision      Recall     F1-Score\n",
      "===============================================================\n",
      "     total        5920     0.432        0.446        0.439\n",
      "      Type       Total   Precision      Recall     F1-Score\n",
      "===============================================================\n",
      "     total        5920     0.435        0.449        0.442\n",
      "      Type       Total   Precision      Recall     F1-Score\n",
      "===============================================================\n",
      "     total        5920     0.439        0.453        0.446\n",
      "      Type       Total   Precision      Recall     F1-Score\n",
      "===============================================================\n",
      "     total        5920     0.439        0.453        0.446\n",
      "      Type       Total   Precision      Recall     F1-Score\n",
      "===============================================================\n",
      "     total        5920     0.442        0.456        0.449\n"
     ]
    }
   ],
   "source": [
    "import copy\n",
    "t2 = copy.deepcopy(t1)\n",
    "for index in range(0,5):\n",
    "    c1,c2,c3,c4 = initc()\n",
    "    for k in range(0,len(corpuse)):\n",
    "        e = corpuse[k]\n",
    "        f = corpusf[k]\n",
    "        for i in range(0,len(f)):\n",
    "            s = q2[(i+1,len(e),len(f))][0]*t2['_NULL_'][f[i]]\n",
    "            for ind in range(0,len(e)):\n",
    "                s = s+ q2[(i+1,len(e),len(f))][ind+1]*t2[e[ind]][f[i]]\n",
    "                \n",
    "            delta = (1.0*q2[(i+1,len(e),len(f))][0]*t2['_NULL_'][f[i]])/(1.0*s)\n",
    "            c1['_NULL_'] = c1['_NULL_']+delta\n",
    "            c2['_NULL_'][f[i]] = c2['_NULL_'][f[i]]+delta\n",
    "            c3[(i+1,len(e),len(f))] = c3[(i+1,len(e),len(f))]+delta\n",
    "            c4[(i+1,len(e),len(f))][0] = c4[(i+1,len(e),len(f))][0]+delta\n",
    "            for j in range(0,len(e)):\n",
    "                delta = (1.0*q2[(i+1,len(e),len(f))][j+1]*t2[e[j]][f[i]])/(1.0*s)\n",
    "                c1[e[j]] = c1[e[j]]+delta\n",
    "                c2[e[j]][f[i]] = c2[e[j]][f[i]]+delta\n",
    "                c3[(i+1,len(e),len(f))] = c3[(i+1,len(e),len(f))]+delta\n",
    "                c4[(i+1,len(e),len(f))][j+1] = c4[(i+1,len(e),len(f))][j+1]+delta\n",
    "    for e in t2:\n",
    "        for f in t2[e]:\n",
    "            t2[e][f] = 1.0*c2[e][f]/(1.0*c1[e])\n",
    "    for key in q2:\n",
    "        q2[key][0] = c4[key][0]*1.0/(c3[key]*1.0)\n",
    "        for j in range(0,key[1]):\n",
    "            q2[key][j+1] = c4[key][j+1]*1.0/(c3[key]*1.0)\n",
    "            \n",
    "    evaluateIBM2(index)"
   ]
  },
  {
   "cell_type": "markdown",
   "metadata": {},
   "source": [
    "Examples"
   ]
  },
  {
   "cell_type": "code",
   "execution_count": 72,
   "metadata": {},
   "outputs": [],
   "source": [
    "gold = open(\"dev.key\",'r')\n",
    "test = open(\"devIBM2.out\",'r')\n",
    "senf = {}\n",
    "sentences = {}\n",
    "tesentences = {}\n",
    "for g in gold:\n",
    "    gsl = g.split()\n",
    "    if gsl[0] not in sentences:\n",
    "        senf[gsl[0]] = 0\n",
    "        sentences[gsl[0]] = [gsl[0]+' '+gsl[1]+' '+gsl[2]]\n",
    "    else:\n",
    "        sentences[gsl[0]].append(gsl[0]+' '+gsl[1]+' '+gsl[2])\n",
    "\n",
    "for t in test:\n",
    "    gsl = t.split()\n",
    "    if gsl[0] not in tesentences:\n",
    "        tesentences[gsl[0]] = [gsl[0]+' '+gsl[1]+' '+gsl[2]]\n",
    "    else:\n",
    "        tesentences[gsl[0]].append(gsl[0]+' '+gsl[1]+' '+gsl[2])\n"
   ]
  },
  {
   "cell_type": "code",
   "execution_count": 73,
   "metadata": {},
   "outputs": [],
   "source": [
    "for k in sentences:\n",
    "    align1 = CorpusAlignment(sentences[k])\n",
    "    align2 = CorpusAlignment(tesentences[k])\n",
    "    fscore = CorpusAlignment.compute_fscore(align1, align2)\n",
    "    senf[k] = fscore.fscore()"
   ]
  },
  {
   "cell_type": "code",
   "execution_count": 75,
   "metadata": {},
   "outputs": [],
   "source": [
    "import operator\n",
    "sort = sorted(senf.items(), key=operator.itemgetter(1))"
   ]
  },
  {
   "cell_type": "code",
   "execution_count": 89,
   "metadata": {},
   "outputs": [
    {
     "name": "stdout",
     "output_type": "stream",
     "text": [
      "['10', '.', 'considerably', 'limits', 'the', 'present', 'derogations', 'for', 'cement', 'kilns', '.']\n",
      "['10', '-', 'limita', 'considerablemente', 'las', 'exenciones', 'vigentes', 'para', 'las', 'instalaciones', 'en', 'cementeras', ';']\n"
     ]
    }
   ],
   "source": [
    "print(devcorpuse[45])\n",
    "print(devcorpusf[45])"
   ]
  },
  {
   "cell_type": "code",
   "execution_count": 81,
   "metadata": {},
   "outputs": [
    {
     "name": "stdout",
     "output_type": "stream",
     "text": [
      "(['46 1 1', '46 3 4', '46 4 3', '46 5 5', '46 6 7', '46 7 6', '46 8 8', '46 9 12', '46 10 10', '46 11 13'], ['46 1 1', '46 10 2', '46 10 3', '46 3 4', '46 9 5', '46 9 6', '46 10 7', '46 10 8', '46 9 9', '46 9 10', '46 9 11', '46 10 12', '46 9 13'])\n"
     ]
    }
   ],
   "source": [
    "print(sentences['46'],tesentences['46'])"
   ]
  },
  {
   "cell_type": "code",
   "execution_count": null,
   "metadata": {},
   "outputs": [],
   "source": []
  },
  {
   "cell_type": "markdown",
   "metadata": {},
   "source": [
    "Bonus"
   ]
  },
  {
   "cell_type": "code",
   "execution_count": 24,
   "metadata": {},
   "outputs": [],
   "source": [
    "t11 = {}\n",
    "t11['_NULL_'] = {}\n",
    "for e in corpuse:\n",
    "    for w in e:\n",
    "        if w not in t11['_NULL_']:\n",
    "            t11['_NULL_'][w] = 0\n",
    "\n",
    "for w in t11['_NULL_']:\n",
    "    t11['_NULL_'][w] = 1.0/(1.0*len(t11['_NULL_']))\n",
    "\n",
    "for i in range(0,len(corpuse)):\n",
    "    e = corpuse[i]\n",
    "    f = corpusf[i]\n",
    "    for w in f:\n",
    "        if w not in t11:\n",
    "            t11[w] = {}\n",
    "        for fw in e:\n",
    "            if fw not in t11[w]:\n",
    "                t11[w][fw] = 0\n",
    "\n",
    "for k in t11:\n",
    "    for w in t11[k]:\n",
    "        t11[k][w] = 1/len(t11[k])"
   ]
  },
  {
   "cell_type": "code",
   "execution_count": 22,
   "metadata": {},
   "outputs": [],
   "source": [
    "def initccc():\n",
    "    c1 = {}\n",
    "    c2 = {}\n",
    "    c3 = {}\n",
    "    c4 = {}\n",
    "    for k in range(0,len(corpusf)):\n",
    "        e = corpuse[k]\n",
    "        f = corpusf[k]\n",
    "        for i in range(0,len(e)):\n",
    "            if '_NULL_' not in c1:\n",
    "                c1['_NULL_'] = 0\n",
    "            if '_NULL_' not in c2:\n",
    "                c2['_NULL_'] = {}\n",
    "            if e[i] not in c2['_NULL_']:\n",
    "                c2['_NULL_'][e[i]] = 0\n",
    "            if (i+1,len(f),len(e)) not in c3:\n",
    "                c3[(i+1,len(f),len(e))] = 0\n",
    "            if (i+1,len(f),len(e)) not in c4:\n",
    "                c4[(i+1,len(f),len(e))] = {}\n",
    "            if 0 not in c4[(i+1,len(f),len(e))]:\n",
    "                c4[i+1,len(f),len(e)][0]=0\n",
    "            for j in range(0,len(f)):\n",
    "                if f[j] not in c1:\n",
    "                    c1[f[j]] = 0\n",
    "                if f[j] not in c2:\n",
    "                    c2[f[j]] = {}\n",
    "                if e[i] not in c2[f[j]]:\n",
    "                    c2[f[j]][e[i]] = 0\n",
    "                if (i+1,len(f),len(e)) not in c3:\n",
    "                    c3[(i+1,len(f),len(e))] = 0\n",
    "                if (i+1,len(f),len(e)) not in c4:\n",
    "                    c4[(i+1,len(f),len(e))] = {}\n",
    "                if (j+1) not in c4[(i+1,len(f),len(e))]:\n",
    "                    c4[i+1,len(f),len(e)][j+1]=0\n",
    "    return c1,c2,c3,c4"
   ]
  },
  {
   "cell_type": "code",
   "execution_count": 20,
   "metadata": {},
   "outputs": [],
   "source": [
    "def evaluateee (index):\n",
    "    file = \"dev\"+str(index)+\".out\"\n",
    "    out1 = open(file,'w')\n",
    "    for k in range(0,len(devcorpusf)):\n",
    "        e = devcorpuse[k]\n",
    "        f = devcorpusf[k]\n",
    "        for i in range(0,len(e)):\n",
    "            maxt = t11['_NULL_'][e[i]]\n",
    "            maxj = 0\n",
    "            for j in range(0,len(f)):\n",
    "                if t11[f[j]][e[i]] > maxt:\n",
    "                    maxt =  t11[f[j]][e[i]]\n",
    "                    maxj = j+1\n",
    "            out1.write(str(k+1)+' '+str(maxj)+' '+str(i+1)+'\\n')\n",
    "    out1.close()\n",
    "    main(open(\"dev.key\"), open(file)) "
   ]
  },
  {
   "cell_type": "code",
   "execution_count": 25,
   "metadata": {},
   "outputs": [
    {
     "name": "stdout",
     "output_type": "stream",
     "text": [
      "      Type       Total   Precision      Recall     F1-Score\n",
      "===============================================================\n",
      "     total        5920     0.050        0.049        0.050\n",
      "      Type       Total   Precision      Recall     F1-Score\n",
      "===============================================================\n",
      "     total        5920     0.095        0.092        0.093\n",
      "      Type       Total   Precision      Recall     F1-Score\n",
      "===============================================================\n",
      "     total        5920     0.100        0.098        0.099\n",
      "      Type       Total   Precision      Recall     F1-Score\n",
      "===============================================================\n",
      "     total        5920     0.101        0.098        0.099\n",
      "      Type       Total   Precision      Recall     F1-Score\n",
      "===============================================================\n",
      "     total        5920     0.101        0.099        0.100\n"
     ]
    }
   ],
   "source": [
    "for index in range(0,5):\n",
    "    c1,c2,c3,c4 = initccc()\n",
    "    for k in range(0,len(corpusf)):\n",
    "        e = corpuse[k]\n",
    "        f = corpusf[k]\n",
    "        for i in range(0,len(e)):\n",
    "            s = t11['_NULL_'][e[i]]\n",
    "            for w in f:\n",
    "                s = s+ t11[w][e[i]]\n",
    "            delta = 1.0*t11['_NULL_'][e[i]]/(1.0*s)\n",
    "            c1['_NULL_'] = c1['_NULL_']+delta\n",
    "            c2['_NULL_'][e[i]] = c2['_NULL_'][e[i]]+delta\n",
    "            for j in range(0,len(f)):\n",
    "                delta = 1.0*t11[f[j]][e[i]]/(1.0*s)\n",
    "                c1[f[j]] = c1[f[j]]+delta\n",
    "                c2[f[j]][e[i]] = c2[f[j]][e[i]]+delta\n",
    "    for f in t11:\n",
    "        for e in t11[f]:\n",
    "            t11[f][e] = 1.0*c2[f][e]/(1.0*c1[f])\n",
    "    evaluateee(index)"
   ]
  },
  {
   "cell_type": "code",
   "execution_count": 26,
   "metadata": {},
   "outputs": [],
   "source": [
    "q22 = {}\n",
    "for k in range(0,len(corpuse)):\n",
    "        e = corpuse[k]\n",
    "        f = corpusf[k]\n",
    "        for i in range(0,len(e)):\n",
    "            if (i+1,len(f),len(e)) not in q22:\n",
    "                q22[(i+1,len(f),len(e))] = {}\n",
    "            if 0 not in q22[(i+1,len(f),len(e))]:\n",
    "                q22[(i+1,len(f),len(e))][0]=1.0/((len(f)+1)*1.0)\n",
    "            for j in range(0,len(f)):\n",
    "                if (j+1) not in q22[(i+1,len(f),len(e))]:\n",
    "                    q22[(i+1,len(f),len(e))][j+1]=1.0/((len(f)+1)*1.0)"
   ]
  },
  {
   "cell_type": "code",
   "execution_count": 32,
   "metadata": {},
   "outputs": [],
   "source": [
    "def evaluateeeIBM2(index):\n",
    "    file = \"devIBM2\"+str(index)+\".out\"\n",
    "    out22 = open(file,'w')\n",
    "    for k in range(0,len(devcorpusf)):\n",
    "        e = devcorpuse[k]\n",
    "        f = devcorpusf[k]\n",
    "        for i in range(0,len(e)):\n",
    "            maxqt = q22[(i+1,len(f),len(e))][0]*t22['_NULL_'][e[i]]\n",
    "            maxj = 0\n",
    "            for j in range(0,len(f)):\n",
    "                if q22[(i+1,len(f),len(e))][j+1]*t22[f[j]][e[i]] > maxqt:\n",
    "                    maxqt =  q22[(i+1,len(f),len(e))][j+1]*t22[f[j]][e[i]]\n",
    "                    maxj = j+1\n",
    "            out22.write(str(k+1)+' '+str(maxj)+' '+str(i+1)+'\\n')\n",
    "    out22.close()\n",
    "    main(open(\"dev.key\"), open(file)) "
   ]
  },
  {
   "cell_type": "code",
   "execution_count": 33,
   "metadata": {},
   "outputs": [
    {
     "name": "stdout",
     "output_type": "stream",
     "text": [
      "      Type       Total   Precision      Recall     F1-Score\n",
      "===============================================================\n",
      "     total        5920     0.112        0.109        0.111\n",
      "      Type       Total   Precision      Recall     F1-Score\n",
      "===============================================================\n",
      "     total        5920     0.113        0.111        0.112\n",
      "      Type       Total   Precision      Recall     F1-Score\n",
      "===============================================================\n",
      "     total        5920     0.112        0.109        0.110\n",
      "      Type       Total   Precision      Recall     F1-Score\n",
      "===============================================================\n",
      "     total        5920     0.113        0.110        0.112\n",
      "      Type       Total   Precision      Recall     F1-Score\n",
      "===============================================================\n",
      "     total        5920     0.114        0.111        0.112\n"
     ]
    }
   ],
   "source": [
    "import copy\n",
    "t22 = copy.deepcopy(t11)\n",
    "for index in range(0,5):\n",
    "    c1,c2,c3,c4 = initccc()\n",
    "    for k in range(0,len(corpuse)):\n",
    "        e = corpuse[k]\n",
    "        f = corpusf[k]\n",
    "        for i in range(0,len(e)):\n",
    "            s = q22[(i+1,len(f),len(e))][0]*t22['_NULL_'][e[i]]\n",
    "            for ind in range(0,len(f)):\n",
    "                s = s+ q22[(i+1,len(f),len(e))][ind+1]*t22[f[ind]][e[i]]\n",
    "                \n",
    "            delta = (1.0*q22[(i+1,len(f),len(e))][0]*t22['_NULL_'][e[i]])/(1.0*s)\n",
    "            c1['_NULL_'] = c1['_NULL_']+delta\n",
    "            c2['_NULL_'][e[i]] = c2['_NULL_'][e[i]]+delta\n",
    "            c3[(i+1,len(f),len(e))] = c3[(i+1,len(f),len(e))]+delta\n",
    "            c4[(i+1,len(f),len(e))][0] = c4[(i+1,len(f),len(e))][0]+delta\n",
    "            for j in range(0,len(f)):\n",
    "                delta = (1.0*q22[(i+1,len(f),len(e))][j+1]*t22[f[j]][e[i]])/(1.0*s)\n",
    "                c1[f[j]] = c1[f[j]]+delta\n",
    "                c2[f[j]][e[i]] = c2[f[j]][e[i]]+delta\n",
    "                c3[(i+1,len(f),len(e))] = c3[(i+1,len(f),len(e))]+delta\n",
    "                c4[(i+1,len(f),len(e))][j+1] = c4[(i+1,len(f),len(e))][j+1]+delta\n",
    "    for f in t22:\n",
    "        for e in t22[f]:\n",
    "            t22[f][e] = 1.0*c2[f][e]/(1.0*c1[f])\n",
    "    for key in q22:\n",
    "        q22[key][0] = c4[key][0]*1.0/(c3[key]*1.0)\n",
    "        for j in range(0,key[1]):\n",
    "            q22[key][j+1] = c4[key][j+1]*1.0/(c3[key]*1.0)\n",
    "            \n",
    "    evaluateeeIBM2(index)"
   ]
  },
  {
   "cell_type": "code",
   "execution_count": null,
   "metadata": {},
   "outputs": [],
   "source": []
  }
 ],
 "metadata": {
  "kernelspec": {
   "display_name": "Python 2",
   "language": "python",
   "name": "python2"
  },
  "language_info": {
   "codemirror_mode": {
    "name": "ipython",
    "version": 2
   },
   "file_extension": ".py",
   "mimetype": "text/x-python",
   "name": "python",
   "nbconvert_exporter": "python",
   "pygments_lexer": "ipython2",
   "version": "2.7.15"
  }
 },
 "nbformat": 4,
 "nbformat_minor": 2
}
