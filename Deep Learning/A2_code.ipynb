{
 "cells": [
  {
   "cell_type": "code",
   "execution_count": 1,
   "metadata": {
    "colab": {},
    "colab_type": "code",
    "id": "n1rRYMF_okBY"
   },
   "outputs": [],
   "source": [
    "# Import dependencies\n",
    "import torch\n",
    "import torch.nn as nn\n",
    "from plot_lib import set_default, show_scatterplot, plot_bases\n",
    "import matplotlib.pyplot as plt\n",
    "import random\n",
    "import numpy as np"
   ]
  },
  {
   "cell_type": "code",
   "execution_count": 2,
   "metadata": {
    "colab": {},
    "colab_type": "code",
    "id": "YkaTWgU3okBc"
   },
   "outputs": [],
   "source": [
    "# Set up your device \n",
    "cuda = torch.cuda.is_available()\n",
    "device = torch.device(\"cuda:0\" if cuda else \"cpu\")"
   ]
  },
  {
   "cell_type": "code",
   "execution_count": 3,
   "metadata": {
    "colab": {},
    "colab_type": "code",
    "id": "_zcS-H-mokBe"
   },
   "outputs": [],
   "source": [
    "# Set up random seed to 1008. Do not change the random seed.\n",
    "# Yes, these are all necessary when you run experiments!\n",
    "seed = 1008\n",
    "random.seed(seed)\n",
    "np.random.seed(seed)\n",
    "torch.manual_seed(seed)\n",
    "if cuda:\n",
    "    torch.cuda.manual_seed(seed)\n",
    "    torch.cuda.manual_seed_all(seed)\n",
    "    torch.backends.cudnn.benchmark = False\n",
    "    torch.backends.cudnn.deterministic = True"
   ]
  },
  {
   "cell_type": "code",
   "execution_count": 4,
   "metadata": {
    "colab": {},
    "colab_type": "code",
    "id": "64jNfD5UokBh"
   },
   "outputs": [],
   "source": [
    "# Define data generating functions\n",
    "def quadratic_data_generator(data_size):\n",
    "    # f(x) = y = x^2 + 4x - 3\n",
    "    # generate an input tensor of size data_size with torch.randn\n",
    "    x = torch.randn(data_size, 1) - 2   \n",
    "    x = x.to(device)\n",
    "    # TODO\n",
    "    y = x**2+4*x-3\n",
    "    y = y.to(device)\n",
    "    # placeholder\n",
    "    #y = torch.ones(data_size,1)\n",
    "    return x,y\n",
    "\n",
    "def cubic_data_generator(data_size=100):\n",
    "    # f(x) = y = x^3 + 4x^2 - 3\n",
    "    # generate an input tensor of size data_size with torch.randn\n",
    "    x = torch.randn(data_size, 1) - 2   \n",
    "    x = x.to(device)\n",
    "    # TODO\n",
    "    y = x.pow(3)+4*(x**2)-3\n",
    "    y = y.to(device)\n",
    "    # placeholder\n",
    "    #y = torch.ones(data_size,1)\n",
    "    return x, y"
   ]
  },
  {
   "cell_type": "code",
   "execution_count": 5,
   "metadata": {
    "colab": {
     "base_uri": "https://localhost:8080/",
     "height": 265
    },
    "colab_type": "code",
    "id": "_zcCkt40okBj",
    "outputId": "f852a83a-c04d-43a2-827a-4a6297298a4b"
   },
   "outputs": [
    {
     "data": {
      "image/png": "[encoded data removed]",
      "text/plain": [
       "<Figure size 432x288 with 1 Axes>"
      ]
     },
     "metadata": {
      "needs_background": "light"
     },
     "output_type": "display_data"
    }
   ],
   "source": [
    "# Generate the data with 128 datapoints\n",
    "x, y = quadratic_data_generator(128)\n",
    "plt.scatter(x.cpu().numpy(),y.cpu().numpy())\n",
    "plt.show()"
   ]
  },
  {
   "cell_type": "code",
   "execution_count": 6,
   "metadata": {
    "colab": {},
    "colab_type": "code",
    "id": "rn1TqPoHokBt"
   },
   "outputs": [],
   "source": [
    "# Define a Linear Classifier with a single linear layer and no non-linearity\n",
    "# (no hidden layer)\n",
    "class Linear_0H(nn.Module):\n",
    "    def __init__(self):\n",
    "        super().__init__()\n",
    "\n",
    "        self.classifier = nn.Sequential(nn.Linear(1, 1))\n",
    "    def forward(self, x):\n",
    "        return self.classifier(x)"
   ]
  },
  {
   "cell_type": "code",
   "execution_count": 7,
   "metadata": {
    "colab": {},
    "colab_type": "code",
    "id": "In6FSCPzokBv"
   },
   "outputs": [],
   "source": [
    "# Define a Linear Classifier with a single hidden layer of size 5 and ReLU non-linearity\n",
    "class Linear_1H(nn.Module):\n",
    "    def __init__(self):\n",
    "        super().__init__()\n",
    "\n",
    "        self.classifier =  nn.Sequential(nn.Linear(1, 5), nn.ReLU(),nn.Linear(5, 1))\n",
    "\n",
    "    def forward(self, x):\n",
    "        return self.classifier(x)"
   ]
  },
  {
   "cell_type": "code",
   "execution_count": 8,
   "metadata": {
    "colab": {},
    "colab_type": "code",
    "id": "pzRNs4M1okBx"
   },
   "outputs": [],
   "source": [
    "# Define a Linear Classifier with a two hidden layers of size 5 and ReLU non-linearity\n",
    "class Linear_2H(nn.Module):\n",
    "    def __init__(self):\n",
    "        super().__init__()\n",
    "\n",
    "        # TODO\n",
    "        self.classifier = nn.Sequential(nn.Linear(1, 5), nn.ReLU(),nn.Linear(5, 5),nn.ReLU(),nn.Linear(5,1))\n",
    "\n",
    "    def forward(self, x):\n",
    "        return self.classifier(x)"
   ]
  },
  {
   "cell_type": "code",
   "execution_count": 9,
   "metadata": {
    "colab": {},
    "colab_type": "code",
    "id": "M_vRsu4BokBz"
   },
   "outputs": [],
   "source": [
    "'''\n",
    "TODO: Training function\n",
    "\n",
    "Hint: look at some example pytorch tutorials to learn how to\n",
    "    - initialize optimizers\n",
    "    - zero gradient\n",
    "    - backprop the loss\n",
    "    - step the gradient\n",
    "\n",
    "\n",
    "Note: This is full batch. We compute forward on whole x,y.\n",
    "No need for dataloaders nor loop over batches. \n",
    "Just pass all of x to model's forward pass.\n",
    "'''\n",
    "def train(model, epochs, x, y):\n",
    "    \n",
    "    # Set model to training mode\n",
    "    model.train()\n",
    "    model.to(device)\n",
    "    # Define MSE loss function\n",
    "    criterion = torch.nn.MSELoss()\n",
    "    \n",
    "    # TODO: Define the SGD optimizer with learning rate 0.01\n",
    "    optimizer = torch.optim.SGD(model.parameters(), lr=0.01) \n",
    "    \n",
    "    for epoch in range(epochs):\n",
    "        \n",
    "        # TODO: Forward data through model to predict y\n",
    "        y_pred = model(x)\n",
    "        \n",
    "        # TODO: Compute loss in terms of predicted and true y\n",
    "        loss = criterion(y_pred, y)\n",
    "\n",
    "        # TODO: Zero gradient\n",
    "        optimizer.zero_grad()\n",
    "        # TODO: call backward on loss\n",
    "        loss.backward()\n",
    "        # TODO: step the optimizer\n",
    "        optimizer.step()\n",
    "        # every 100 epochs, print\n",
    "        if (epoch+1) % 100 == 0:\n",
    "            print('Epoch {} loss: {}'.format(epoch+1, loss.item()))\n",
    "            \n",
    "    # return y_pred without gradient information, for plotting\n",
    "    return y_pred.detach()"
   ]
  },
  {
   "cell_type": "code",
   "execution_count": 10,
   "metadata": {
    "colab": {
     "base_uri": "https://localhost:8080/",
     "height": 433
    },
    "colab_type": "code",
    "id": "lx_EMETookB1",
    "outputId": "4d7c176f-1aa7-401e-db44-a7fc2d822b27"
   },
   "outputs": [
    {
     "name": "stdout",
     "output_type": "stream",
     "text": [
      "Epoch 100 loss: 3.3711135387420654\n",
      "Epoch 200 loss: 2.377268075942993\n",
      "Epoch 300 loss: 1.8444777727127075\n",
      "Epoch 400 loss: 1.5588537454605103\n",
      "Epoch 500 loss: 1.4057323932647705\n",
      "Epoch 600 loss: 1.3236454725265503\n",
      "Epoch 700 loss: 1.2796398401260376\n",
      "Epoch 800 loss: 1.2560487985610962\n",
      "Epoch 900 loss: 1.2434018850326538\n",
      "Epoch 1000 loss: 1.2366219758987427\n"
     ]
    },
    {
     "data": {
      "image/png": "[encoded data removed]",
      "text/plain": [
       "<Figure size 432x288 with 1 Axes>"
      ]
     },
     "metadata": {
      "needs_background": "light"
     },
     "output_type": "display_data"
    }
   ],
   "source": [
    "# 0H model on quadratic data\n",
    "model = Linear_0H()\n",
    "y_pred = train(model, epochs=1000, x=x, y=y)\n",
    "\n",
    "# Plot predictions vs actual data\n",
    "plt.scatter(x.cpu().numpy(), y.cpu().numpy())\n",
    "plt.scatter(x.cpu().numpy(), y_pred.cpu().numpy())\n",
    "plt.show()"
   ]
  },
  {
   "cell_type": "code",
   "execution_count": 11,
   "metadata": {
    "colab": {
     "base_uri": "https://localhost:8080/",
     "height": 433
    },
    "colab_type": "code",
    "id": "m6HIEi6fokB-",
    "outputId": "4121d221-6efb-4def-a0b6-90b175663359"
   },
   "outputs": [
    {
     "name": "stdout",
     "output_type": "stream",
     "text": [
      "Epoch 100 loss: 1.8421376943588257\n",
      "Epoch 200 loss: 0.8967394828796387\n",
      "Epoch 300 loss: 0.6937336921691895\n",
      "Epoch 400 loss: 0.5439189076423645\n",
      "Epoch 500 loss: 0.4211842119693756\n",
      "Epoch 600 loss: 0.3246660828590393\n",
      "Epoch 700 loss: 0.2539371848106384\n",
      "Epoch 800 loss: 0.20531226694583893\n",
      "Epoch 900 loss: 0.1738778054714203\n",
      "Epoch 1000 loss: 0.15422357618808746\n"
     ]
    },
    {
     "data": {
      "image/png": "[encoded data removed]",
      "text/plain": [
       "<Figure size 432x288 with 1 Axes>"
      ]
     },
     "metadata": {
      "needs_background": "light"
     },
     "output_type": "display_data"
    }
   ],
   "source": [
    "# 1H model on quadratic data\n",
    "model = Linear_1H()\n",
    "y_pred = train(model, epochs=1000, x=x, y=y)\n",
    "plt.scatter(x.cpu().numpy(), y.cpu().numpy())\n",
    "plt.scatter(x.cpu().numpy(), y_pred.cpu().numpy())\n",
    "plt.show()"
   ]
  },
  {
   "cell_type": "code",
   "execution_count": 12,
   "metadata": {
    "colab": {
     "base_uri": "https://localhost:8080/",
     "height": 433
    },
    "colab_type": "code",
    "id": "_j-_jgS2okCC",
    "outputId": "aa161d41-95f2-4e8d-c26e-11a89d19fee4"
   },
   "outputs": [
    {
     "name": "stdout",
     "output_type": "stream",
     "text": [
      "Epoch 100 loss: 0.8756207227706909\n",
      "Epoch 200 loss: 0.4980800747871399\n",
      "Epoch 300 loss: 0.2565285563468933\n",
      "Epoch 400 loss: 0.5319246649742126\n",
      "Epoch 500 loss: 0.3199230432510376\n",
      "Epoch 600 loss: 0.18399372696876526\n",
      "Epoch 700 loss: 0.10868315398693085\n",
      "Epoch 800 loss: 0.0771995261311531\n",
      "Epoch 900 loss: 0.052102286368608475\n",
      "Epoch 1000 loss: 0.05054796487092972\n"
     ]
    },
    {
     "data": {
      "image/png": "[encoded data removed]",
      "text/plain": [
       "<Figure size 432x288 with 1 Axes>"
      ]
     },
     "metadata": {
      "needs_background": "light"
     },
     "output_type": "display_data"
    }
   ],
   "source": [
    "# 2H model on quadratic data\n",
    "model = Linear_2H()\n",
    "y_pred = train(model, epochs=1000, x=x, y=y)\n",
    "plt.scatter(x.cpu().numpy(), y.cpu().numpy())\n",
    "plt.scatter(x.cpu().numpy(), y_pred.cpu().numpy())\n",
    "plt.show()"
   ]
  },
  {
   "cell_type": "code",
   "execution_count": 28,
   "metadata": {
    "colab": {},
    "colab_type": "code",
    "id": "e6P6Ta2ookCF"
   },
   "outputs": [],
   "source": [
    "# Generate cubic data with 128 data points\n",
    "x, y = cubic_data_generator(128)"
   ]
  },
  {
   "cell_type": "code",
   "execution_count": 29,
   "metadata": {
    "colab": {
     "base_uri": "https://localhost:8080/",
     "height": 433
    },
    "colab_type": "code",
    "id": "JPGQsaiVokCI",
    "outputId": "80480c7f-f4a5-46ab-8b11-8efb2e4c6497"
   },
   "outputs": [
    {
     "name": "stdout",
     "output_type": "stream",
     "text": [
      "Epoch 100 loss: 5.796992778778076\n",
      "Epoch 200 loss: 5.7899370193481445\n",
      "Epoch 300 loss: 5.786278247833252\n",
      "Epoch 400 loss: 5.784380912780762\n",
      "Epoch 500 loss: 5.783397197723389\n",
      "Epoch 600 loss: 5.782886981964111\n",
      "Epoch 700 loss: 5.782622337341309\n",
      "Epoch 800 loss: 5.782485485076904\n",
      "Epoch 900 loss: 5.782414436340332\n",
      "Epoch 1000 loss: 5.782377243041992\n"
     ]
    },
    {
     "data": {
      "image/png": "[encoded data removed]",
      "text/plain": [
       "<Figure size 432x288 with 1 Axes>"
      ]
     },
     "metadata": {
      "needs_background": "light"
     },
     "output_type": "display_data"
    }
   ],
   "source": [
    "# 0H model on cubic data\n",
    "model = Linear_0H()\n",
    "y_pred = train(model, epochs=1000, x=x, y=y)\n",
    "plt.scatter(x.cpu().numpy(), y.cpu().numpy())\n",
    "plt.scatter(x.cpu().numpy(), y_pred.cpu().numpy())\n",
    "plt.show()"
   ]
  },
  {
   "cell_type": "code",
   "execution_count": 30,
   "metadata": {
    "colab": {
     "base_uri": "https://localhost:8080/",
     "height": 433
    },
    "colab_type": "code",
    "id": "68JxHOz8okCL",
    "outputId": "a8d60aaf-707a-40d9-e25b-6f8b7144d2af"
   },
   "outputs": [
    {
     "name": "stdout",
     "output_type": "stream",
     "text": [
      "Epoch 100 loss: 8.988853454589844\n",
      "Epoch 200 loss: 7.860870838165283\n",
      "Epoch 300 loss: 4.844150066375732\n",
      "Epoch 400 loss: 3.62964129447937\n",
      "Epoch 500 loss: 3.4248554706573486\n",
      "Epoch 600 loss: 3.375415086746216\n",
      "Epoch 700 loss: 3.3650262355804443\n",
      "Epoch 800 loss: 3.362691640853882\n",
      "Epoch 900 loss: 3.3621883392333984\n",
      "Epoch 1000 loss: 3.362114429473877\n"
     ]
    },
    {
     "data": {
      "image/png": "[encoded data removed]",
      "text/plain": [
       "<Figure size 432x288 with 1 Axes>"
      ]
     },
     "metadata": {
      "needs_background": "light"
     },
     "output_type": "display_data"
    }
   ],
   "source": [
    "# 1H model on cubic data\n",
    "model = Linear_1H()\n",
    "y_pred = train(model, epochs=1000, x=x, y=y)\n",
    "plt.scatter(x.cpu().numpy(), y.cpu().numpy())\n",
    "plt.scatter(x.cpu().numpy(), y_pred.cpu().numpy())\n",
    "plt.show()"
   ]
  },
  {
   "cell_type": "code",
   "execution_count": 33,
   "metadata": {
    "colab": {
     "base_uri": "https://localhost:8080/",
     "height": 433
    },
    "colab_type": "code",
    "id": "zQCOjn_AokCP",
    "outputId": "5b94b79e-3aef-4120-c7d1-d2276d3924c4"
   },
   "outputs": [
    {
     "name": "stdout",
     "output_type": "stream",
     "text": [
      "Epoch 100 loss: 7.253598690032959\n",
      "Epoch 200 loss: 3.3812971115112305\n",
      "Epoch 300 loss: 2.6734325885772705\n",
      "Epoch 400 loss: 2.31386399269104\n",
      "Epoch 500 loss: 1.8587746620178223\n",
      "Epoch 600 loss: 1.2914531230926514\n",
      "Epoch 700 loss: 0.817676305770874\n",
      "Epoch 800 loss: 0.5080432891845703\n",
      "Epoch 900 loss: 0.896574079990387\n",
      "Epoch 1000 loss: 0.6203234195709229\n"
     ]
    },
    {
     "data": {
      "image/png": "[encoded data removed]",
      "text/plain": [
       "<Figure size 432x288 with 1 Axes>"
      ]
     },
     "metadata": {
      "needs_background": "light"
     },
     "output_type": "display_data"
    }
   ],
   "source": [
    "# 2H model on cubic data\n",
    "model = Linear_2H()\n",
    "y_pred = train(model, epochs=1000, x=x, y=y)\n",
    "plt.scatter(x.cpu().numpy(), y.cpu().numpy())\n",
    "plt.scatter(x.cpu().numpy(), y_pred.cpu().numpy())\n",
    "plt.show()"
   ]
  },
  {
   "cell_type": "markdown",
   "metadata": {
    "colab_type": "text",
    "id": "MccZgoP2ZxP1"
   },
   "source": [
    "Check if problem 1 result is correct"
   ]
  },
  {
   "cell_type": "code",
   "execution_count": 17,
   "metadata": {
    "colab": {},
    "colab_type": "code",
    "id": "_jjgobSiZxP2"
   },
   "outputs": [],
   "source": [
    "import torch.nn as nn\n",
    "import torch.nn.functional as F"
   ]
  },
  {
   "cell_type": "code",
   "execution_count": 18,
   "metadata": {
    "colab": {},
    "colab_type": "code",
    "id": "6MGTX0mOZxP4"
   },
   "outputs": [],
   "source": [
    "A = torch.tensor(np.array([[[[4 , 5 , 2 , 2 , 1 ],\n",
    "       [3 , 3 , 2 , 2 , 4 ],\n",
    "       [4 , 3 , 4 , 1 , 1],\n",
    "      [ 5 , 1 , 4 , 1 , 2 ],\n",
    "       [5 , 1 , 3 , 1 , 4]]]]),dtype = torch.float,requires_grad=True )\n",
    "B =  torch.tensor(np.array([[[[4,3,3],[5,5,5],[2,4,3]]]]),dtype = torch.float,requires_grad=True )"
   ]
  },
  {
   "cell_type": "code",
   "execution_count": 19,
   "metadata": {
    "colab": {
     "base_uri": "https://localhost:8080/",
     "height": 151
    },
    "colab_type": "code",
    "id": "XZbQ2nEfZxP6",
    "outputId": "f102c12d-8d7a-48b1-cdf1-13b1e409596f"
   },
   "outputs": [
    {
     "data": {
      "text/plain": [
       "(tensor([[[[4., 5., 2., 2., 1.],\n",
       "           [3., 3., 2., 2., 4.],\n",
       "           [4., 3., 4., 1., 1.],\n",
       "           [5., 1., 4., 1., 2.],\n",
       "           [5., 1., 3., 1., 4.]]]], requires_grad=True),\n",
       " tensor([[[[4., 3., 3.],\n",
       "           [5., 5., 5.],\n",
       "           [2., 4., 3.]]]], requires_grad=True))"
      ]
     },
     "execution_count": 19,
     "metadata": {},
     "output_type": "execute_result"
    }
   ],
   "source": [
    "A,B"
   ]
  },
  {
   "cell_type": "code",
   "execution_count": 20,
   "metadata": {
    "colab": {},
    "colab_type": "code",
    "id": "Cq5Rd2hhZxP8"
   },
   "outputs": [],
   "source": [
    "output = nn.functional.conv2d(A, B)"
   ]
  },
  {
   "cell_type": "code",
   "execution_count": 21,
   "metadata": {
    "colab": {
     "base_uri": "https://localhost:8080/",
     "height": 67
    },
    "colab_type": "code",
    "id": "fq_ZAH7AZxQA",
    "outputId": "c11f5100-ae55-4134-f871-1f702db3311e"
   },
   "outputs": [
    {
     "data": {
      "text/plain": [
       "tensor([[[[109.,  92.,  72.],\n",
       "          [108.,  85.,  74.],\n",
       "          [110.,  74.,  79.]]]], grad_fn=<ThnnConv2DBackward>)"
      ]
     },
     "execution_count": 21,
     "metadata": {},
     "output_type": "execute_result"
    }
   ],
   "source": [
    "output"
   ]
  },
  {
   "cell_type": "code",
   "execution_count": 22,
   "metadata": {
    "colab": {
     "base_uri": "https://localhost:8080/",
     "height": 101
    },
    "colab_type": "code",
    "id": "z88jmJi3ZxQD",
    "outputId": "b8805eb9-213b-4426-b47e-5ddaca106073"
   },
   "outputs": [
    {
     "name": "stdout",
     "output_type": "stream",
     "text": [
      "tensor([[[[ 4.,  7., 10.,  6.,  3.],\n",
      "          [ 9., 17., 25., 16.,  8.],\n",
      "          [11., 23., 34., 23., 11.],\n",
      "          [ 7., 16., 24., 17.,  8.],\n",
      "          [ 2.,  6.,  9.,  7.,  3.]]]])\n"
     ]
    }
   ],
   "source": [
    "output_s = output.sum()\n",
    "output_s.backward()\n",
    "print(A.grad)"
   ]
  },
  {
   "cell_type": "code",
   "execution_count": 23,
   "metadata": {
    "colab": {
     "base_uri": "https://localhost:8080/",
     "height": 67
    },
    "colab_type": "code",
    "id": "GIB-EWjtZxQF",
    "outputId": "ae8e9b61-5fd5-48bc-915d-55781199084a"
   },
   "outputs": [
    {
     "name": "stdout",
     "output_type": "stream",
     "text": [
      "tensor([[[[30., 24., 19.],\n",
      "          [29., 21., 21.],\n",
      "          [30., 19., 21.]]]])\n"
     ]
    }
   ],
   "source": [
    "print(B.grad)"
   ]
  },
  {
   "cell_type": "code",
   "execution_count": 24,
   "metadata": {
    "colab": {},
    "colab_type": "code",
    "id": "e1h-cQxvZxQI"
   },
   "outputs": [],
   "source": [
    "pool_output = F.max_pool2d(output,kernel_size=2,stride=1)"
   ]
  },
  {
   "cell_type": "code",
   "execution_count": 25,
   "metadata": {
    "colab": {
     "base_uri": "https://localhost:8080/",
     "height": 50
    },
    "colab_type": "code",
    "id": "jej0K8GjZxQK",
    "outputId": "6947e160-4dd2-42b0-d0c8-f384c6804f5f"
   },
   "outputs": [
    {
     "data": {
      "text/plain": [
       "tensor([[[[109.,  92.],\n",
       "          [110.,  85.]]]], grad_fn=<MaxPool2DWithIndicesBackward>)"
      ]
     },
     "execution_count": 25,
     "metadata": {},
     "output_type": "execute_result"
    }
   ],
   "source": [
    "pool_output"
   ]
  }
 ],
 "metadata": {
  "accelerator": "GPU",
  "colab": {
   "collapsed_sections": [],
   "name": "mark_goldstein_mg3479_A2_code.ipynb",
   "provenance": []
  },
  "kernelspec": {
   "display_name": "Python 3",
   "language": "python",
   "name": "python3"
  },
  "language_info": {
   "codemirror_mode": {
    "name": "ipython",
    "version": 3
   },
   "file_extension": ".py",
   "mimetype": "text/x-python",
   "name": "python",
   "nbconvert_exporter": "python",
   "pygments_lexer": "ipython3",
   "version": "3.6.6"
  }
 },
 "nbformat": 4,
 "nbformat_minor": 1
}
