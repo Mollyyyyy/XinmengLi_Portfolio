{
  "nbformat": 4,
  "nbformat_minor": 0,
  "metadata": {
    "kernelspec": {
      "display_name": "Python 3",
      "language": "python",
      "name": "python3"
    },
    "language_info": {
      "codemirror_mode": {
        "name": "ipython",
        "version": 3
      },
      "file_extension": ".py",
      "mimetype": "text/x-python",
      "name": "python",
      "nbconvert_exporter": "python",
      "pygments_lexer": "ipython3",
      "version": "3.6.7"
    },
    "colab": {
      "name": "mark_goldstein_mg3479_A3_code.ipynb",
      "provenance": [],
      "collapsed_sections": []
    },
    "widgets": {
      "application/vnd.jupyter.widget-state+json": {
        "7d0435096d284c248f7b873459c6a96e": {
          "model_module": "@jupyter-widgets/controls",
          "model_name": "HBoxModel",
          "state": {
            "_view_name": "HBoxView",
            "_dom_classes": [],
            "_model_name": "HBoxModel",
            "_view_module": "@jupyter-widgets/controls",
            "_model_module_version": "1.5.0",
            "_view_count": null,
            "_view_module_version": "1.5.0",
            "box_style": "",
            "layout": "IPY_MODEL_991f570465f4412d8c40cc3992ac0c2d",
            "_model_module": "@jupyter-widgets/controls",
            "children": [
              "IPY_MODEL_4f075b1f97324d5cb7e7e86ffa57914d",
              "IPY_MODEL_50ade8534f104fd8bd1ceb635d23fe8c"
            ]
          }
        },
        "991f570465f4412d8c40cc3992ac0c2d": {
          "model_module": "@jupyter-widgets/base",
          "model_name": "LayoutModel",
          "state": {
            "_view_name": "LayoutView",
            "grid_template_rows": null,
            "right": null,
            "justify_content": null,
            "_view_module": "@jupyter-widgets/base",
            "overflow": null,
            "_model_module_version": "1.2.0",
            "_view_count": null,
            "flex_flow": null,
            "width": null,
            "min_width": null,
            "border": null,
            "align_items": null,
            "bottom": null,
            "_model_module": "@jupyter-widgets/base",
            "top": null,
            "grid_column": null,
            "overflow_y": null,
            "overflow_x": null,
            "grid_auto_flow": null,
            "grid_area": null,
            "grid_template_columns": null,
            "flex": null,
            "_model_name": "LayoutModel",
            "justify_items": null,
            "grid_row": null,
            "max_height": null,
            "align_content": null,
            "visibility": null,
            "align_self": null,
            "height": null,
            "min_height": null,
            "padding": null,
            "grid_auto_rows": null,
            "grid_gap": null,
            "max_width": null,
            "order": null,
            "_view_module_version": "1.2.0",
            "grid_template_areas": null,
            "object_position": null,
            "object_fit": null,
            "grid_auto_columns": null,
            "margin": null,
            "display": null,
            "left": null
          }
        },
        "4f075b1f97324d5cb7e7e86ffa57914d": {
          "model_module": "@jupyter-widgets/controls",
          "model_name": "IntProgressModel",
          "state": {
            "_view_name": "ProgressView",
            "style": "IPY_MODEL_bb0818f375294e459602c8954c6aece4",
            "_dom_classes": [],
            "description": "",
            "_model_name": "IntProgressModel",
            "bar_style": "info",
            "max": 1,
            "_view_module": "@jupyter-widgets/controls",
            "_model_module_version": "1.5.0",
            "value": 1,
            "_view_count": null,
            "_view_module_version": "1.5.0",
            "orientation": "horizontal",
            "min": 0,
            "description_tooltip": null,
            "_model_module": "@jupyter-widgets/controls",
            "layout": "IPY_MODEL_b86bd6e021474459b140ebee5065e010"
          }
        },
        "50ade8534f104fd8bd1ceb635d23fe8c": {
          "model_module": "@jupyter-widgets/controls",
          "model_name": "HTMLModel",
          "state": {
            "_view_name": "HTMLView",
            "style": "IPY_MODEL_83baaca31b1a4bc2ab556eefb984f343",
            "_dom_classes": [],
            "description": "",
            "_model_name": "HTMLModel",
            "placeholder": "​",
            "_view_module": "@jupyter-widgets/controls",
            "_model_module_version": "1.5.0",
            "value": " 9920512/? [00:20&lt;00:00, 8783663.16it/s]",
            "_view_count": null,
            "_view_module_version": "1.5.0",
            "description_tooltip": null,
            "_model_module": "@jupyter-widgets/controls",
            "layout": "IPY_MODEL_48de700c72174f21a9eb7571aee8630a"
          }
        },
        "bb0818f375294e459602c8954c6aece4": {
          "model_module": "@jupyter-widgets/controls",
          "model_name": "ProgressStyleModel",
          "state": {
            "_view_name": "StyleView",
            "_model_name": "ProgressStyleModel",
            "description_width": "initial",
            "_view_module": "@jupyter-widgets/base",
            "_model_module_version": "1.5.0",
            "_view_count": null,
            "_view_module_version": "1.2.0",
            "bar_color": null,
            "_model_module": "@jupyter-widgets/controls"
          }
        },
        "b86bd6e021474459b140ebee5065e010": {
          "model_module": "@jupyter-widgets/base",
          "model_name": "LayoutModel",
          "state": {
            "_view_name": "LayoutView",
            "grid_template_rows": null,
            "right": null,
            "justify_content": null,
            "_view_module": "@jupyter-widgets/base",
            "overflow": null,
            "_model_module_version": "1.2.0",
            "_view_count": null,
            "flex_flow": null,
            "width": null,
            "min_width": null,
            "border": null,
            "align_items": null,
            "bottom": null,
            "_model_module": "@jupyter-widgets/base",
            "top": null,
            "grid_column": null,
            "overflow_y": null,
            "overflow_x": null,
            "grid_auto_flow": null,
            "grid_area": null,
            "grid_template_columns": null,
            "flex": null,
            "_model_name": "LayoutModel",
            "justify_items": null,
            "grid_row": null,
            "max_height": null,
            "align_content": null,
            "visibility": null,
            "align_self": null,
            "height": null,
            "min_height": null,
            "padding": null,
            "grid_auto_rows": null,
            "grid_gap": null,
            "max_width": null,
            "order": null,
            "_view_module_version": "1.2.0",
            "grid_template_areas": null,
            "object_position": null,
            "object_fit": null,
            "grid_auto_columns": null,
            "margin": null,
            "display": null,
            "left": null
          }
        },
        "83baaca31b1a4bc2ab556eefb984f343": {
          "model_module": "@jupyter-widgets/controls",
          "model_name": "DescriptionStyleModel",
          "state": {
            "_view_name": "StyleView",
            "_model_name": "DescriptionStyleModel",
            "description_width": "",
            "_view_module": "@jupyter-widgets/base",
            "_model_module_version": "1.5.0",
            "_view_count": null,
            "_view_module_version": "1.2.0",
            "_model_module": "@jupyter-widgets/controls"
          }
        },
        "48de700c72174f21a9eb7571aee8630a": {
          "model_module": "@jupyter-widgets/base",
          "model_name": "LayoutModel",
          "state": {
            "_view_name": "LayoutView",
            "grid_template_rows": null,
            "right": null,
            "justify_content": null,
            "_view_module": "@jupyter-widgets/base",
            "overflow": null,
            "_model_module_version": "1.2.0",
            "_view_count": null,
            "flex_flow": null,
            "width": null,
            "min_width": null,
            "border": null,
            "align_items": null,
            "bottom": null,
            "_model_module": "@jupyter-widgets/base",
            "top": null,
            "grid_column": null,
            "overflow_y": null,
            "overflow_x": null,
            "grid_auto_flow": null,
            "grid_area": null,
            "grid_template_columns": null,
            "flex": null,
            "_model_name": "LayoutModel",
            "justify_items": null,
            "grid_row": null,
            "max_height": null,
            "align_content": null,
            "visibility": null,
            "align_self": null,
            "height": null,
            "min_height": null,
            "padding": null,
            "grid_auto_rows": null,
            "grid_gap": null,
            "max_width": null,
            "order": null,
            "_view_module_version": "1.2.0",
            "grid_template_areas": null,
            "object_position": null,
            "object_fit": null,
            "grid_auto_columns": null,
            "margin": null,
            "display": null,
            "left": null
          }
        },
        "9941356e0a404391a23d42c83a6c672f": {
          "model_module": "@jupyter-widgets/controls",
          "model_name": "HBoxModel",
          "state": {
            "_view_name": "HBoxView",
            "_dom_classes": [],
            "_model_name": "HBoxModel",
            "_view_module": "@jupyter-widgets/controls",
            "_model_module_version": "1.5.0",
            "_view_count": null,
            "_view_module_version": "1.5.0",
            "box_style": "",
            "layout": "IPY_MODEL_5a66ea134842437b98c405273def9c9c",
            "_model_module": "@jupyter-widgets/controls",
            "children": [
              "IPY_MODEL_6570f372ef30422aaa790921a61c5fa2",
              "IPY_MODEL_4e6d7cd6d4f14d7fb1b55fd1805dd5ed"
            ]
          }
        },
        "5a66ea134842437b98c405273def9c9c": {
          "model_module": "@jupyter-widgets/base",
          "model_name": "LayoutModel",
          "state": {
            "_view_name": "LayoutView",
            "grid_template_rows": null,
            "right": null,
            "justify_content": null,
            "_view_module": "@jupyter-widgets/base",
            "overflow": null,
            "_model_module_version": "1.2.0",
            "_view_count": null,
            "flex_flow": null,
            "width": null,
            "min_width": null,
            "border": null,
            "align_items": null,
            "bottom": null,
            "_model_module": "@jupyter-widgets/base",
            "top": null,
            "grid_column": null,
            "overflow_y": null,
            "overflow_x": null,
            "grid_auto_flow": null,
            "grid_area": null,
            "grid_template_columns": null,
            "flex": null,
            "_model_name": "LayoutModel",
            "justify_items": null,
            "grid_row": null,
            "max_height": null,
            "align_content": null,
            "visibility": null,
            "align_self": null,
            "height": null,
            "min_height": null,
            "padding": null,
            "grid_auto_rows": null,
            "grid_gap": null,
            "max_width": null,
            "order": null,
            "_view_module_version": "1.2.0",
            "grid_template_areas": null,
            "object_position": null,
            "object_fit": null,
            "grid_auto_columns": null,
            "margin": null,
            "display": null,
            "left": null
          }
        },
        "6570f372ef30422aaa790921a61c5fa2": {
          "model_module": "@jupyter-widgets/controls",
          "model_name": "IntProgressModel",
          "state": {
            "_view_name": "ProgressView",
            "style": "IPY_MODEL_ca4db3c1ae9041d480b51d5b3467c929",
            "_dom_classes": [],
            "description": "  0%",
            "_model_name": "IntProgressModel",
            "bar_style": "info",
            "max": 1,
            "_view_module": "@jupyter-widgets/controls",
            "_model_module_version": "1.5.0",
            "value": 0,
            "_view_count": null,
            "_view_module_version": "1.5.0",
            "orientation": "horizontal",
            "min": 0,
            "description_tooltip": null,
            "_model_module": "@jupyter-widgets/controls",
            "layout": "IPY_MODEL_0af82a08389c4bed9fb78cda44576732"
          }
        },
        "4e6d7cd6d4f14d7fb1b55fd1805dd5ed": {
          "model_module": "@jupyter-widgets/controls",
          "model_name": "HTMLModel",
          "state": {
            "_view_name": "HTMLView",
            "style": "IPY_MODEL_a4ff90b422f242389948b2c5af8661ae",
            "_dom_classes": [],
            "description": "",
            "_model_name": "HTMLModel",
            "placeholder": "​",
            "_view_module": "@jupyter-widgets/controls",
            "_model_module_version": "1.5.0",
            "value": " 0/28881 [00:00&lt;?, ?it/s]",
            "_view_count": null,
            "_view_module_version": "1.5.0",
            "description_tooltip": null,
            "_model_module": "@jupyter-widgets/controls",
            "layout": "IPY_MODEL_2db79ca3e09c4992aa47a3e4c424bc13"
          }
        },
        "ca4db3c1ae9041d480b51d5b3467c929": {
          "model_module": "@jupyter-widgets/controls",
          "model_name": "ProgressStyleModel",
          "state": {
            "_view_name": "StyleView",
            "_model_name": "ProgressStyleModel",
            "description_width": "initial",
            "_view_module": "@jupyter-widgets/base",
            "_model_module_version": "1.5.0",
            "_view_count": null,
            "_view_module_version": "1.2.0",
            "bar_color": null,
            "_model_module": "@jupyter-widgets/controls"
          }
        },
        "0af82a08389c4bed9fb78cda44576732": {
          "model_module": "@jupyter-widgets/base",
          "model_name": "LayoutModel",
          "state": {
            "_view_name": "LayoutView",
            "grid_template_rows": null,
            "right": null,
            "justify_content": null,
            "_view_module": "@jupyter-widgets/base",
            "overflow": null,
            "_model_module_version": "1.2.0",
            "_view_count": null,
            "flex_flow": null,
            "width": null,
            "min_width": null,
            "border": null,
            "align_items": null,
            "bottom": null,
            "_model_module": "@jupyter-widgets/base",
            "top": null,
            "grid_column": null,
            "overflow_y": null,
            "overflow_x": null,
            "grid_auto_flow": null,
            "grid_area": null,
            "grid_template_columns": null,
            "flex": null,
            "_model_name": "LayoutModel",
            "justify_items": null,
            "grid_row": null,
            "max_height": null,
            "align_content": null,
            "visibility": null,
            "align_self": null,
            "height": null,
            "min_height": null,
            "padding": null,
            "grid_auto_rows": null,
            "grid_gap": null,
            "max_width": null,
            "order": null,
            "_view_module_version": "1.2.0",
            "grid_template_areas": null,
            "object_position": null,
            "object_fit": null,
            "grid_auto_columns": null,
            "margin": null,
            "display": null,
            "left": null
          }
        },
        "a4ff90b422f242389948b2c5af8661ae": {
          "model_module": "@jupyter-widgets/controls",
          "model_name": "DescriptionStyleModel",
          "state": {
            "_view_name": "StyleView",
            "_model_name": "DescriptionStyleModel",
            "description_width": "",
            "_view_module": "@jupyter-widgets/base",
            "_model_module_version": "1.5.0",
            "_view_count": null,
            "_view_module_version": "1.2.0",
            "_model_module": "@jupyter-widgets/controls"
          }
        },
        "2db79ca3e09c4992aa47a3e4c424bc13": {
          "model_module": "@jupyter-widgets/base",
          "model_name": "LayoutModel",
          "state": {
            "_view_name": "LayoutView",
            "grid_template_rows": null,
            "right": null,
            "justify_content": null,
            "_view_module": "@jupyter-widgets/base",
            "overflow": null,
            "_model_module_version": "1.2.0",
            "_view_count": null,
            "flex_flow": null,
            "width": null,
            "min_width": null,
            "border": null,
            "align_items": null,
            "bottom": null,
            "_model_module": "@jupyter-widgets/base",
            "top": null,
            "grid_column": null,
            "overflow_y": null,
            "overflow_x": null,
            "grid_auto_flow": null,
            "grid_area": null,
            "grid_template_columns": null,
            "flex": null,
            "_model_name": "LayoutModel",
            "justify_items": null,
            "grid_row": null,
            "max_height": null,
            "align_content": null,
            "visibility": null,
            "align_self": null,
            "height": null,
            "min_height": null,
            "padding": null,
            "grid_auto_rows": null,
            "grid_gap": null,
            "max_width": null,
            "order": null,
            "_view_module_version": "1.2.0",
            "grid_template_areas": null,
            "object_position": null,
            "object_fit": null,
            "grid_auto_columns": null,
            "margin": null,
            "display": null,
            "left": null
          }
        },
        "dd6653f70332452993fd89d2cd78494c": {
          "model_module": "@jupyter-widgets/controls",
          "model_name": "HBoxModel",
          "state": {
            "_view_name": "HBoxView",
            "_dom_classes": [],
            "_model_name": "HBoxModel",
            "_view_module": "@jupyter-widgets/controls",
            "_model_module_version": "1.5.0",
            "_view_count": null,
            "_view_module_version": "1.5.0",
            "box_style": "",
            "layout": "IPY_MODEL_931dafa32d54439c97b311f7c89f0e48",
            "_model_module": "@jupyter-widgets/controls",
            "children": [
              "IPY_MODEL_60b256ad592e4ac2aeaed280d08c1256",
              "IPY_MODEL_9f612466693c4f328894f9f21577c72b"
            ]
          }
        },
        "931dafa32d54439c97b311f7c89f0e48": {
          "model_module": "@jupyter-widgets/base",
          "model_name": "LayoutModel",
          "state": {
            "_view_name": "LayoutView",
            "grid_template_rows": null,
            "right": null,
            "justify_content": null,
            "_view_module": "@jupyter-widgets/base",
            "overflow": null,
            "_model_module_version": "1.2.0",
            "_view_count": null,
            "flex_flow": null,
            "width": null,
            "min_width": null,
            "border": null,
            "align_items": null,
            "bottom": null,
            "_model_module": "@jupyter-widgets/base",
            "top": null,
            "grid_column": null,
            "overflow_y": null,
            "overflow_x": null,
            "grid_auto_flow": null,
            "grid_area": null,
            "grid_template_columns": null,
            "flex": null,
            "_model_name": "LayoutModel",
            "justify_items": null,
            "grid_row": null,
            "max_height": null,
            "align_content": null,
            "visibility": null,
            "align_self": null,
            "height": null,
            "min_height": null,
            "padding": null,
            "grid_auto_rows": null,
            "grid_gap": null,
            "max_width": null,
            "order": null,
            "_view_module_version": "1.2.0",
            "grid_template_areas": null,
            "object_position": null,
            "object_fit": null,
            "grid_auto_columns": null,
            "margin": null,
            "display": null,
            "left": null
          }
        },
        "60b256ad592e4ac2aeaed280d08c1256": {
          "model_module": "@jupyter-widgets/controls",
          "model_name": "IntProgressModel",
          "state": {
            "_view_name": "ProgressView",
            "style": "IPY_MODEL_8ecd4782be0c43cea0353df68f26a478",
            "_dom_classes": [],
            "description": "",
            "_model_name": "IntProgressModel",
            "bar_style": "success",
            "max": 1,
            "_view_module": "@jupyter-widgets/controls",
            "_model_module_version": "1.5.0",
            "value": 1,
            "_view_count": null,
            "_view_module_version": "1.5.0",
            "orientation": "horizontal",
            "min": 0,
            "description_tooltip": null,
            "_model_module": "@jupyter-widgets/controls",
            "layout": "IPY_MODEL_b8b4ff18d975429f9be078c80073216d"
          }
        },
        "9f612466693c4f328894f9f21577c72b": {
          "model_module": "@jupyter-widgets/controls",
          "model_name": "HTMLModel",
          "state": {
            "_view_name": "HTMLView",
            "style": "IPY_MODEL_877d57f776154149b5b21088579ce3e9",
            "_dom_classes": [],
            "description": "",
            "_model_name": "HTMLModel",
            "placeholder": "​",
            "_view_module": "@jupyter-widgets/controls",
            "_model_module_version": "1.5.0",
            "value": " 1654784/? [00:00&lt;00:00, 2972945.01it/s]",
            "_view_count": null,
            "_view_module_version": "1.5.0",
            "description_tooltip": null,
            "_model_module": "@jupyter-widgets/controls",
            "layout": "IPY_MODEL_9d7fdc4c74b34d74ad116bfc70d74a9d"
          }
        },
        "8ecd4782be0c43cea0353df68f26a478": {
          "model_module": "@jupyter-widgets/controls",
          "model_name": "ProgressStyleModel",
          "state": {
            "_view_name": "StyleView",
            "_model_name": "ProgressStyleModel",
            "description_width": "initial",
            "_view_module": "@jupyter-widgets/base",
            "_model_module_version": "1.5.0",
            "_view_count": null,
            "_view_module_version": "1.2.0",
            "bar_color": null,
            "_model_module": "@jupyter-widgets/controls"
          }
        },
        "b8b4ff18d975429f9be078c80073216d": {
          "model_module": "@jupyter-widgets/base",
          "model_name": "LayoutModel",
          "state": {
            "_view_name": "LayoutView",
            "grid_template_rows": null,
            "right": null,
            "justify_content": null,
            "_view_module": "@jupyter-widgets/base",
            "overflow": null,
            "_model_module_version": "1.2.0",
            "_view_count": null,
            "flex_flow": null,
            "width": null,
            "min_width": null,
            "border": null,
            "align_items": null,
            "bottom": null,
            "_model_module": "@jupyter-widgets/base",
            "top": null,
            "grid_column": null,
            "overflow_y": null,
            "overflow_x": null,
            "grid_auto_flow": null,
            "grid_area": null,
            "grid_template_columns": null,
            "flex": null,
            "_model_name": "LayoutModel",
            "justify_items": null,
            "grid_row": null,
            "max_height": null,
            "align_content": null,
            "visibility": null,
            "align_self": null,
            "height": null,
            "min_height": null,
            "padding": null,
            "grid_auto_rows": null,
            "grid_gap": null,
            "max_width": null,
            "order": null,
            "_view_module_version": "1.2.0",
            "grid_template_areas": null,
            "object_position": null,
            "object_fit": null,
            "grid_auto_columns": null,
            "margin": null,
            "display": null,
            "left": null
          }
        },
        "877d57f776154149b5b21088579ce3e9": {
          "model_module": "@jupyter-widgets/controls",
          "model_name": "DescriptionStyleModel",
          "state": {
            "_view_name": "StyleView",
            "_model_name": "DescriptionStyleModel",
            "description_width": "",
            "_view_module": "@jupyter-widgets/base",
            "_model_module_version": "1.5.0",
            "_view_count": null,
            "_view_module_version": "1.2.0",
            "_model_module": "@jupyter-widgets/controls"
          }
        },
        "9d7fdc4c74b34d74ad116bfc70d74a9d": {
          "model_module": "@jupyter-widgets/base",
          "model_name": "LayoutModel",
          "state": {
            "_view_name": "LayoutView",
            "grid_template_rows": null,
            "right": null,
            "justify_content": null,
            "_view_module": "@jupyter-widgets/base",
            "overflow": null,
            "_model_module_version": "1.2.0",
            "_view_count": null,
            "flex_flow": null,
            "width": null,
            "min_width": null,
            "border": null,
            "align_items": null,
            "bottom": null,
            "_model_module": "@jupyter-widgets/base",
            "top": null,
            "grid_column": null,
            "overflow_y": null,
            "overflow_x": null,
            "grid_auto_flow": null,
            "grid_area": null,
            "grid_template_columns": null,
            "flex": null,
            "_model_name": "LayoutModel",
            "justify_items": null,
            "grid_row": null,
            "max_height": null,
            "align_content": null,
            "visibility": null,
            "align_self": null,
            "height": null,
            "min_height": null,
            "padding": null,
            "grid_auto_rows": null,
            "grid_gap": null,
            "max_width": null,
            "order": null,
            "_view_module_version": "1.2.0",
            "grid_template_areas": null,
            "object_position": null,
            "object_fit": null,
            "grid_auto_columns": null,
            "margin": null,
            "display": null,
            "left": null
          }
        },
        "93733db19a044958be9d954d925a0dfd": {
          "model_module": "@jupyter-widgets/controls",
          "model_name": "HBoxModel",
          "state": {
            "_view_name": "HBoxView",
            "_dom_classes": [],
            "_model_name": "HBoxModel",
            "_view_module": "@jupyter-widgets/controls",
            "_model_module_version": "1.5.0",
            "_view_count": null,
            "_view_module_version": "1.5.0",
            "box_style": "",
            "layout": "IPY_MODEL_6980068ad07b4afab5cbde2ef7e5815c",
            "_model_module": "@jupyter-widgets/controls",
            "children": [
              "IPY_MODEL_c4e37e9a95d7492bbc6338d59932dc13",
              "IPY_MODEL_fb74ae3b297f47fb87a04ff80f542c33"
            ]
          }
        },
        "6980068ad07b4afab5cbde2ef7e5815c": {
          "model_module": "@jupyter-widgets/base",
          "model_name": "LayoutModel",
          "state": {
            "_view_name": "LayoutView",
            "grid_template_rows": null,
            "right": null,
            "justify_content": null,
            "_view_module": "@jupyter-widgets/base",
            "overflow": null,
            "_model_module_version": "1.2.0",
            "_view_count": null,
            "flex_flow": null,
            "width": null,
            "min_width": null,
            "border": null,
            "align_items": null,
            "bottom": null,
            "_model_module": "@jupyter-widgets/base",
            "top": null,
            "grid_column": null,
            "overflow_y": null,
            "overflow_x": null,
            "grid_auto_flow": null,
            "grid_area": null,
            "grid_template_columns": null,
            "flex": null,
            "_model_name": "LayoutModel",
            "justify_items": null,
            "grid_row": null,
            "max_height": null,
            "align_content": null,
            "visibility": null,
            "align_self": null,
            "height": null,
            "min_height": null,
            "padding": null,
            "grid_auto_rows": null,
            "grid_gap": null,
            "max_width": null,
            "order": null,
            "_view_module_version": "1.2.0",
            "grid_template_areas": null,
            "object_position": null,
            "object_fit": null,
            "grid_auto_columns": null,
            "margin": null,
            "display": null,
            "left": null
          }
        },
        "c4e37e9a95d7492bbc6338d59932dc13": {
          "model_module": "@jupyter-widgets/controls",
          "model_name": "IntProgressModel",
          "state": {
            "_view_name": "ProgressView",
            "style": "IPY_MODEL_1e54d41a8e4546efb50fdcbdcabf8069",
            "_dom_classes": [],
            "description": "",
            "_model_name": "IntProgressModel",
            "bar_style": "success",
            "max": 1,
            "_view_module": "@jupyter-widgets/controls",
            "_model_module_version": "1.5.0",
            "value": 1,
            "_view_count": null,
            "_view_module_version": "1.5.0",
            "orientation": "horizontal",
            "min": 0,
            "description_tooltip": null,
            "_model_module": "@jupyter-widgets/controls",
            "layout": "IPY_MODEL_4719afc3357941f5b01fc4cbfeaf0d86"
          }
        },
        "fb74ae3b297f47fb87a04ff80f542c33": {
          "model_module": "@jupyter-widgets/controls",
          "model_name": "HTMLModel",
          "state": {
            "_view_name": "HTMLView",
            "style": "IPY_MODEL_cb022f01a51c4819ab4eebefff03639a",
            "_dom_classes": [],
            "description": "",
            "_model_name": "HTMLModel",
            "placeholder": "​",
            "_view_module": "@jupyter-widgets/controls",
            "_model_module_version": "1.5.0",
            "value": " 8192/? [00:00&lt;00:00, 30258.66it/s]",
            "_view_count": null,
            "_view_module_version": "1.5.0",
            "description_tooltip": null,
            "_model_module": "@jupyter-widgets/controls",
            "layout": "IPY_MODEL_778deb52f00a4106a012c3c11f3dbf27"
          }
        },
        "1e54d41a8e4546efb50fdcbdcabf8069": {
          "model_module": "@jupyter-widgets/controls",
          "model_name": "ProgressStyleModel",
          "state": {
            "_view_name": "StyleView",
            "_model_name": "ProgressStyleModel",
            "description_width": "initial",
            "_view_module": "@jupyter-widgets/base",
            "_model_module_version": "1.5.0",
            "_view_count": null,
            "_view_module_version": "1.2.0",
            "bar_color": null,
            "_model_module": "@jupyter-widgets/controls"
          }
        },
        "4719afc3357941f5b01fc4cbfeaf0d86": {
          "model_module": "@jupyter-widgets/base",
          "model_name": "LayoutModel",
          "state": {
            "_view_name": "LayoutView",
            "grid_template_rows": null,
            "right": null,
            "justify_content": null,
            "_view_module": "@jupyter-widgets/base",
            "overflow": null,
            "_model_module_version": "1.2.0",
            "_view_count": null,
            "flex_flow": null,
            "width": null,
            "min_width": null,
            "border": null,
            "align_items": null,
            "bottom": null,
            "_model_module": "@jupyter-widgets/base",
            "top": null,
            "grid_column": null,
            "overflow_y": null,
            "overflow_x": null,
            "grid_auto_flow": null,
            "grid_area": null,
            "grid_template_columns": null,
            "flex": null,
            "_model_name": "LayoutModel",
            "justify_items": null,
            "grid_row": null,
            "max_height": null,
            "align_content": null,
            "visibility": null,
            "align_self": null,
            "height": null,
            "min_height": null,
            "padding": null,
            "grid_auto_rows": null,
            "grid_gap": null,
            "max_width": null,
            "order": null,
            "_view_module_version": "1.2.0",
            "grid_template_areas": null,
            "object_position": null,
            "object_fit": null,
            "grid_auto_columns": null,
            "margin": null,
            "display": null,
            "left": null
          }
        },
        "cb022f01a51c4819ab4eebefff03639a": {
          "model_module": "@jupyter-widgets/controls",
          "model_name": "DescriptionStyleModel",
          "state": {
            "_view_name": "StyleView",
            "_model_name": "DescriptionStyleModel",
            "description_width": "",
            "_view_module": "@jupyter-widgets/base",
            "_model_module_version": "1.5.0",
            "_view_count": null,
            "_view_module_version": "1.2.0",
            "_model_module": "@jupyter-widgets/controls"
          }
        },
        "778deb52f00a4106a012c3c11f3dbf27": {
          "model_module": "@jupyter-widgets/base",
          "model_name": "LayoutModel",
          "state": {
            "_view_name": "LayoutView",
            "grid_template_rows": null,
            "right": null,
            "justify_content": null,
            "_view_module": "@jupyter-widgets/base",
            "overflow": null,
            "_model_module_version": "1.2.0",
            "_view_count": null,
            "flex_flow": null,
            "width": null,
            "min_width": null,
            "border": null,
            "align_items": null,
            "bottom": null,
            "_model_module": "@jupyter-widgets/base",
            "top": null,
            "grid_column": null,
            "overflow_y": null,
            "overflow_x": null,
            "grid_auto_flow": null,
            "grid_area": null,
            "grid_template_columns": null,
            "flex": null,
            "_model_name": "LayoutModel",
            "justify_items": null,
            "grid_row": null,
            "max_height": null,
            "align_content": null,
            "visibility": null,
            "align_self": null,
            "height": null,
            "min_height": null,
            "padding": null,
            "grid_auto_rows": null,
            "grid_gap": null,
            "max_width": null,
            "order": null,
            "_view_module_version": "1.2.0",
            "grid_template_areas": null,
            "object_position": null,
            "object_fit": null,
            "grid_auto_columns": null,
            "margin": null,
            "display": null,
            "left": null
          }
        }
      }
    }
  },
  "cells": [
    {
      "cell_type": "markdown",
      "metadata": {
        "id": "_pq_tQObqPzF",
        "colab_type": "text"
      },
      "source": [
        "## 0. Setup"
      ]
    },
    {
      "cell_type": "code",
      "metadata": {
        "id": "yycd6vvCqPzG",
        "colab_type": "code",
        "colab": {}
      },
      "source": [
        "# Import dependencies\n",
        "import torch\n",
        "import torch.nn as nn\n",
        "import torch.nn.functional as F\n",
        "import torch.optim as optim\n",
        "from torch.utils.data import DataLoader\n",
        "from torchvision import datasets, transforms"
      ],
      "execution_count": 0,
      "outputs": []
    },
    {
      "cell_type": "code",
      "metadata": {
        "id": "sZ5F5SjTqbk8",
        "colab_type": "code",
        "outputId": "c39504d2-0a07-4124-8244-3652726b25b2",
        "colab": {
          "base_uri": "https://localhost:8080/",
          "height": 34
        }
      },
      "source": [
        "print(torch.__version__)"
      ],
      "execution_count": 0,
      "outputs": [
        {
          "output_type": "stream",
          "text": [
            "1.4.0\n"
          ],
          "name": "stdout"
        }
      ]
    },
    {
      "cell_type": "code",
      "metadata": {
        "id": "W9eHrAZCqPzJ",
        "colab_type": "code",
        "colab": {}
      },
      "source": [
        "# Set up your device \n",
        "cuda = torch.cuda.is_available()\n",
        "device = torch.device(\"cuda:0\" if cuda else \"cpu\")"
      ],
      "execution_count": 0,
      "outputs": []
    },
    {
      "cell_type": "code",
      "metadata": {
        "id": "vOKeD48IqPzM",
        "colab_type": "code",
        "colab": {}
      },
      "source": [
        "# Set up random seed to 1008. Do not change the random seed.\n",
        "# Yes, these are all necessary when you run experiments!\n",
        "import numpy as np\n",
        "seed = 1008\n",
        "np.random.seed(seed)\n",
        "torch.manual_seed(seed)\n",
        "if cuda:\n",
        "    torch.cuda.manual_seed(seed)\n",
        "    torch.cuda.manual_seed_all(seed)\n",
        "    torch.backends.cudnn.benchmark = False\n",
        "    torch.backends.cudnn.deterministic = True"
      ],
      "execution_count": 0,
      "outputs": []
    },
    {
      "cell_type": "markdown",
      "metadata": {
        "id": "S684rueiqPzO",
        "colab_type": "text"
      },
      "source": [
        "## 1. Data: MNIST\n",
        "#### Load the MNIST training and test dataset using $\\texttt{torch.utils.data.DataLoader}$ and $\\texttt{torchvision.datasets}$. \n",
        "\n",
        "Hint: You might find Alf's notebook useful: https://github.com/Atcold/pytorch-Deep-Learning/blob/master/06-convnet.ipynb, or see some of the PyTorch tutorials."
      ]
    },
    {
      "cell_type": "markdown",
      "metadata": {
        "id": "AdWwJmsCqPzO",
        "colab_type": "text"
      },
      "source": [
        "### 1.1. Load Training Set [4 pts]"
      ]
    },
    {
      "cell_type": "code",
      "metadata": {
        "id": "Y3RBWY1dqPzP",
        "colab_type": "code",
        "outputId": "c39e39f5-b087-4862-95b5-279b3e6e375e",
        "colab": {
          "base_uri": "https://localhost:8080/",
          "height": 321,
          "referenced_widgets": [
            "7d0435096d284c248f7b873459c6a96e",
            "991f570465f4412d8c40cc3992ac0c2d",
            "4f075b1f97324d5cb7e7e86ffa57914d",
            "50ade8534f104fd8bd1ceb635d23fe8c",
            "bb0818f375294e459602c8954c6aece4",
            "b86bd6e021474459b140ebee5065e010",
            "83baaca31b1a4bc2ab556eefb984f343",
            "48de700c72174f21a9eb7571aee8630a",
            "9941356e0a404391a23d42c83a6c672f",
            "5a66ea134842437b98c405273def9c9c",
            "6570f372ef30422aaa790921a61c5fa2",
            "4e6d7cd6d4f14d7fb1b55fd1805dd5ed",
            "ca4db3c1ae9041d480b51d5b3467c929",
            "0af82a08389c4bed9fb78cda44576732",
            "a4ff90b422f242389948b2c5af8661ae",
            "2db79ca3e09c4992aa47a3e4c424bc13",
            "dd6653f70332452993fd89d2cd78494c",
            "931dafa32d54439c97b311f7c89f0e48",
            "60b256ad592e4ac2aeaed280d08c1256",
            "9f612466693c4f328894f9f21577c72b",
            "8ecd4782be0c43cea0353df68f26a478",
            "b8b4ff18d975429f9be078c80073216d",
            "877d57f776154149b5b21088579ce3e9",
            "9d7fdc4c74b34d74ad116bfc70d74a9d",
            "93733db19a044958be9d954d925a0dfd",
            "6980068ad07b4afab5cbde2ef7e5815c",
            "c4e37e9a95d7492bbc6338d59932dc13",
            "fb74ae3b297f47fb87a04ff80f542c33",
            "1e54d41a8e4546efb50fdcbdcabf8069",
            "4719afc3357941f5b01fc4cbfeaf0d86",
            "cb022f01a51c4819ab4eebefff03639a",
            "778deb52f00a4106a012c3c11f3dbf27"
          ]
        }
      },
      "source": [
        "# Load the MNIST training set with batch size 128, apply data shuffling and normalization\n",
        "train_loader = torch.utils.data.DataLoader(\n",
        "    datasets.MNIST('../data', train=True, download=True,\n",
        "                   transform=transforms.Compose([\n",
        "                       transforms.ToTensor(),\n",
        "                       transforms.Normalize((0.1307,), (0.3081,))\n",
        "                   ])),\n",
        "    batch_size=128, shuffle=True) "
      ],
      "execution_count": 0,
      "outputs": [
        {
          "output_type": "stream",
          "text": [
            "Downloading http://yann.lecun.com/exdb/mnist/train-images-idx3-ubyte.gz to ../data/MNIST/raw/train-images-idx3-ubyte.gz\n"
          ],
          "name": "stdout"
        },
        {
          "output_type": "display_data",
          "data": {
            "application/vnd.jupyter.widget-view+json": {
              "model_id": "7d0435096d284c248f7b873459c6a96e",
              "version_minor": 0,
              "version_major": 2
            },
            "text/plain": [
              "HBox(children=(IntProgress(value=1, bar_style='info', max=1), HTML(value='')))"
            ]
          },
          "metadata": {
            "tags": []
          }
        },
        {
          "output_type": "stream",
          "text": [
            "Extracting ../data/MNIST/raw/train-images-idx3-ubyte.gz to ../data/MNIST/raw\n",
            "Downloading http://yann.lecun.com/exdb/mnist/train-labels-idx1-ubyte.gz to ../data/MNIST/raw/train-labels-idx1-ubyte.gz\n"
          ],
          "name": "stdout"
        },
        {
          "output_type": "display_data",
          "data": {
            "application/vnd.jupyter.widget-view+json": {
              "model_id": "9941356e0a404391a23d42c83a6c672f",
              "version_minor": 0,
              "version_major": 2
            },
            "text/plain": [
              "HBox(children=(IntProgress(value=1, bar_style='info', max=1), HTML(value='')))"
            ]
          },
          "metadata": {
            "tags": []
          }
        },
        {
          "output_type": "stream",
          "text": [
            "Extracting ../data/MNIST/raw/train-labels-idx1-ubyte.gz to ../data/MNIST/raw\n",
            "Downloading http://yann.lecun.com/exdb/mnist/t10k-images-idx3-ubyte.gz to ../data/MNIST/raw/t10k-images-idx3-ubyte.gz\n"
          ],
          "name": "stdout"
        },
        {
          "output_type": "display_data",
          "data": {
            "application/vnd.jupyter.widget-view+json": {
              "model_id": "dd6653f70332452993fd89d2cd78494c",
              "version_minor": 0,
              "version_major": 2
            },
            "text/plain": [
              "HBox(children=(IntProgress(value=1, bar_style='info', max=1), HTML(value='')))"
            ]
          },
          "metadata": {
            "tags": []
          }
        },
        {
          "output_type": "stream",
          "text": [
            "Extracting ../data/MNIST/raw/t10k-images-idx3-ubyte.gz to ../data/MNIST/raw\n",
            "Downloading http://yann.lecun.com/exdb/mnist/t10k-labels-idx1-ubyte.gz to ../data/MNIST/raw/t10k-labels-idx1-ubyte.gz\n"
          ],
          "name": "stdout"
        },
        {
          "output_type": "display_data",
          "data": {
            "application/vnd.jupyter.widget-view+json": {
              "model_id": "93733db19a044958be9d954d925a0dfd",
              "version_minor": 0,
              "version_major": 2
            },
            "text/plain": [
              "HBox(children=(IntProgress(value=1, bar_style='info', max=1), HTML(value='')))"
            ]
          },
          "metadata": {
            "tags": []
          }
        },
        {
          "output_type": "stream",
          "text": [
            "Extracting ../data/MNIST/raw/t10k-labels-idx1-ubyte.gz to ../data/MNIST/raw\n",
            "Processing...\n",
            "Done!\n"
          ],
          "name": "stdout"
        }
      ]
    },
    {
      "cell_type": "markdown",
      "metadata": {
        "id": "2WLtqJoMqPzS",
        "colab_type": "text"
      },
      "source": [
        "### 1.1. Load Test Set [4 pts]"
      ]
    },
    {
      "cell_type": "code",
      "metadata": {
        "id": "C6C65plTqPzS",
        "colab_type": "code",
        "colab": {}
      },
      "source": [
        "# Load the MNIST test set with batch size 128, apply data shuffling and normalization\n",
        "test_loader = torch.utils.data.DataLoader(\n",
        "    datasets.MNIST('../data', train=False, transform=transforms.Compose([\n",
        "                       transforms.ToTensor(),\n",
        "                       transforms.Normalize((0.1307,), (0.3081,))\n",
        "                   ])),\n",
        "    batch_size=128, shuffle=True)"
      ],
      "execution_count": 0,
      "outputs": []
    },
    {
      "cell_type": "markdown",
      "metadata": {
        "id": "feN_rqHjqPzU",
        "colab_type": "text"
      },
      "source": [
        "## 2. Models\n",
        "#### You are going to define two convolutional neural networks which are trained to classify MNIST digits"
      ]
    },
    {
      "cell_type": "markdown",
      "metadata": {
        "id": "QZlU3z88qPzV",
        "colab_type": "text"
      },
      "source": [
        "### 2.1. CNN without Batch Norm [5 pts]"
      ]
    },
    {
      "cell_type": "code",
      "metadata": {
        "id": "kctl5GkoqPzV",
        "colab_type": "code",
        "colab": {}
      },
      "source": [
        "# Fill in the values below that make this network valid for MNIST data\n",
        "\n",
        "conv1_in_ch = 1\n",
        "conv2_in_ch = 20\n",
        "fc1_in_features = 50*4*4\n",
        "fc2_in_features = 500\n",
        "n_classes = 10"
      ],
      "execution_count": 0,
      "outputs": []
    },
    {
      "cell_type": "code",
      "metadata": {
        "id": "3ISF7yaeqPzY",
        "colab_type": "code",
        "outputId": "f8f36284-855a-4560-ff47-d6fd48bf8131",
        "colab": {
          "base_uri": "https://localhost:8080/",
          "height": 52
        }
      },
      "source": [
        "class NetWithoutBatchNorm(nn.Module):\n",
        "    def __init__(self):\n",
        "        super(NetWithoutBatchNorm, self).__init__()\n",
        "        self.conv1 = nn.Conv2d(in_channels=conv1_in_ch, out_channels=20, kernel_size=5, stride=1)\n",
        "        self.conv2 = nn.Conv2d(in_channels=conv2_in_ch, out_channels=50, kernel_size=5, stride=1)\n",
        "        self.fc1 = nn.Linear(in_features=fc1_in_features, out_features=500)\n",
        "        self.fc2 = nn.Linear(in_features=fc2_in_features, out_features=n_classes)\n",
        "\n",
        "    def forward(self, x):\n",
        "        x = F.relu(self.conv1(x))\n",
        "        x = F.max_pool2d(x, kernel_size=2, stride=2)\n",
        "        x = F.relu(self.conv2(x))\n",
        "        x = F.max_pool2d(x, kernel_size=2, stride=2)\n",
        "        x = x.view(-1, fc1_in_features) # reshaping\n",
        "       # print(x.shape)\n",
        "        x = F.relu(self.fc1(x))\n",
        "       # print(x.shape)\n",
        "        x = self.fc2(x)\n",
        "       # print(x.shape)\n",
        "        # Return the log_softmax of x.\n",
        "        return F.log_softmax(x, dim=1)"
      ],
      "execution_count": 0,
      "outputs": [
        {
          "output_type": "stream",
          "text": [
            "\n",
            "\n"
          ],
          "name": "stdout"
        }
      ]
    },
    {
      "cell_type": "markdown",
      "metadata": {
        "id": "vrU8GXMIqPza",
        "colab_type": "text"
      },
      "source": [
        "### 2.2. CNN with Batch Norm [5 pts]"
      ]
    },
    {
      "cell_type": "code",
      "metadata": {
        "id": "U3hC-aP6qPza",
        "colab_type": "code",
        "colab": {}
      },
      "source": [
        "# Fill in the values below that make this network valid for MNIST data\n",
        "\n",
        "conv1_bn_size = 20\n",
        "conv2_bn_size = 50\n",
        "fc1_bn_size = 500"
      ],
      "execution_count": 0,
      "outputs": []
    },
    {
      "cell_type": "code",
      "metadata": {
        "id": "rOGt55hKqPzd",
        "colab_type": "code",
        "colab": {}
      },
      "source": [
        "# Define the CNN with architecture explained in Part 2.2\n",
        "class NetWithBatchNorm(nn.Module):\n",
        "    def __init__(self):\n",
        "        super(NetWithBatchNorm, self).__init__()\n",
        "        self.conv1 = nn.Conv2d(in_channels=conv1_in_ch, out_channels=20, kernel_size=5, stride=1)\n",
        "        self.conv1_bn = nn.BatchNorm2d(conv1_bn_size)\n",
        "        self.conv2 = nn.Conv2d(in_channels=conv2_in_ch, out_channels=50, kernel_size=5, stride=1)\n",
        "        self.conv2_bn = nn.BatchNorm2d(conv2_bn_size)\n",
        "        self.fc1 = nn.Linear(in_features=fc1_in_features, out_features=500)\n",
        "        self.fc1_bn = nn.BatchNorm1d(fc1_bn_size)\n",
        "        self.fc2 = nn.Linear(in_features=fc2_in_features, out_features=n_classes)\n",
        "\n",
        "    def forward(self, x):\n",
        "        x = F.relu(self.conv1_bn(self.conv1(x)))\n",
        "        x = F.max_pool2d(x, kernel_size=2, stride=2)\n",
        "        x = F.relu(self.conv2_bn(self.conv2(x)))\n",
        "        x = F.max_pool2d(x, kernel_size=2, stride=2)\n",
        "        x = x.view(-1, fc1_in_features)\n",
        "        x = F.relu(self.fc1_bn(self.fc1(x)))\n",
        "        x = self.fc2(x)\n",
        "        # Return the log_softmax of x.\n",
        "        return F.log_softmax(x, dim=1)"
      ],
      "execution_count": 0,
      "outputs": []
    },
    {
      "cell_type": "markdown",
      "metadata": {
        "id": "KvzVLOdEqPzf",
        "colab_type": "text"
      },
      "source": [
        "## 3. Training & Evaluation"
      ]
    },
    {
      "cell_type": "markdown",
      "metadata": {
        "id": "_s_eDWaPqPzf",
        "colab_type": "text"
      },
      "source": [
        "### 3.1. Define training method [10 pts]"
      ]
    },
    {
      "cell_type": "code",
      "metadata": {
        "id": "eRU78uZ5qPzg",
        "colab_type": "code",
        "colab": {}
      },
      "source": [
        "def train(model, device, train_loader, optimizer, epoch, log_interval = 100):\n",
        "    # Set model to training mode\n",
        "    model.train()\n",
        "    # Loop through data points\n",
        "    for batch_idx, (data, target) in enumerate(train_loader):    \n",
        "        # Send data and target to device\n",
        "        data, target = data.to(device), target.to(device)\n",
        "        \n",
        "        # Zero out the ortimizer\n",
        "        optimizer.zero_grad()\n",
        "        \n",
        "        # Pass data through model\n",
        "        output = model(data)\n",
        "        # Compute the negative log likelihood loss\n",
        "        loss = F.nll_loss(output, target)\n",
        "        \n",
        "        # Backpropagate loss\n",
        "        loss.backward()\n",
        "        \n",
        "        # Make a step with the optimizer\n",
        "        optimizer.step()\n",
        "        \n",
        "        # Print loss (uncomment lines below once implemented)\n",
        "        if batch_idx % log_interval == 0:\n",
        "            print('Train Epoch: {} [{}/{} ({:.0f}%)]\\tLoss: {:.6f}'.format(\n",
        "                epoch, batch_idx * len(data), len(train_loader.dataset),\n",
        "                100. * batch_idx / len(train_loader), loss.item()))"
      ],
      "execution_count": 0,
      "outputs": []
    },
    {
      "cell_type": "markdown",
      "metadata": {
        "id": "xtCRELVtqPzj",
        "colab_type": "text"
      },
      "source": [
        "### 3.2. Define test method [10 pts]"
      ]
    },
    {
      "cell_type": "code",
      "metadata": {
        "id": "79nyavIUqPzj",
        "colab_type": "code",
        "colab": {}
      },
      "source": [
        "# Define test method\n",
        "def test(model, device, test_loader):\n",
        "    # Set model to evaluation mode\n",
        "    model.eval()\n",
        "    # Variable for the total loss \n",
        "    test_loss = 0\n",
        "    # Counter for the correct predictions\n",
        "    num_correct = 0\n",
        "    \n",
        "    # don't need autograd for eval\n",
        "    with torch.no_grad():\n",
        "        # Loop through data points\n",
        "        for data, target in test_loader:\n",
        "        \n",
        "            # Send data to device\n",
        "            data, target = data.to(device), target.to(device)\n",
        "            \n",
        "            # Pass data through model\n",
        "            output = model(data)\n",
        "            \n",
        "            # Compute the negative log likelihood loss with reduction='sum' and add to total test_loss\n",
        "            test_loss += F.nll_loss(output, target, reduction='sum').item()\n",
        "            \n",
        "            # Get predictions from the model for each data point\n",
        "            pred = output.data.max(1, keepdim=True)[1]\n",
        "            \n",
        "            # Add number of correct predictions to total num_correct \n",
        "            num_correct += pred.eq(target.data.view_as(pred)).cpu().sum().item()\n",
        "    \n",
        "    # Compute the average test_loss\n",
        "    avg_test_loss =  test_loss/len(test_loader.dataset)\n",
        "    \n",
        "    print('\\nTest set: Average loss: {:.4f}, Accuracy: {}/{} ({:.0f}%)\\n'.format(\n",
        "        avg_test_loss, num_correct, len(test_loader.dataset),\n",
        "        100. * num_correct / len(test_loader.dataset)))"
      ],
      "execution_count": 0,
      "outputs": []
    },
    {
      "cell_type": "markdown",
      "metadata": {
        "id": "yGRZ8oKPqPzm",
        "colab_type": "text"
      },
      "source": [
        "### 3.3 Train NetWithoutBatchNorm() [5 pts]"
      ]
    },
    {
      "cell_type": "code",
      "metadata": {
        "id": "7AYdNnfWqPzn",
        "colab_type": "code",
        "outputId": "bbb3e226-d4d4-4486-f7f2-5d190b52ace1",
        "colab": {
          "base_uri": "https://localhost:8080/",
          "height": 1000
        }
      },
      "source": [
        "import time\n",
        "# Deifne model and sent to device\n",
        "model = NetWithoutBatchNorm()\n",
        "model.to(device)\n",
        "# Optimizer: SGD with learning rate of 1e-2 and momentum of 0.5\n",
        "optimizer = optim.SGD(model.parameters(), lr=1e-2, momentum=0.5)\n",
        "# Training loop with 10 epochs\n",
        "for epoch in range(1, 10 + 1):\n",
        "\n",
        "    # Train model\n",
        "    train(model,train_loader=train_loader,optimizer=optimizer,epoch=epoch,device=device)\n",
        "    \n",
        "    # Test model\n",
        "    test(model, device, test_loader)"
      ],
      "execution_count": 0,
      "outputs": [
        {
          "output_type": "stream",
          "text": [
            "Train Epoch: 1 [0/60000 (0%)]\tLoss: 2.312853\n",
            "Train Epoch: 1 [12800/60000 (21%)]\tLoss: 0.508909\n",
            "Train Epoch: 1 [25600/60000 (43%)]\tLoss: 0.338712\n",
            "Train Epoch: 1 [38400/60000 (64%)]\tLoss: 0.322320\n",
            "Train Epoch: 1 [51200/60000 (85%)]\tLoss: 0.222989\n",
            "\n",
            "Test set: Average loss: 0.1600, Accuracy: 9520/10000 (95%)\n",
            "\n",
            "Train Epoch: 2 [0/60000 (0%)]\tLoss: 0.232157\n",
            "Train Epoch: 2 [12800/60000 (21%)]\tLoss: 0.103445\n",
            "Train Epoch: 2 [25600/60000 (43%)]\tLoss: 0.120769\n",
            "Train Epoch: 2 [38400/60000 (64%)]\tLoss: 0.176900\n",
            "Train Epoch: 2 [51200/60000 (85%)]\tLoss: 0.112213\n",
            "\n",
            "Test set: Average loss: 0.0939, Accuracy: 9727/10000 (97%)\n",
            "\n",
            "Train Epoch: 3 [0/60000 (0%)]\tLoss: 0.087177\n",
            "Train Epoch: 3 [12800/60000 (21%)]\tLoss: 0.055061\n",
            "Train Epoch: 3 [25600/60000 (43%)]\tLoss: 0.101073\n",
            "Train Epoch: 3 [38400/60000 (64%)]\tLoss: 0.060789\n",
            "Train Epoch: 3 [51200/60000 (85%)]\tLoss: 0.062408\n",
            "\n",
            "Test set: Average loss: 0.0809, Accuracy: 9751/10000 (98%)\n",
            "\n",
            "Train Epoch: 4 [0/60000 (0%)]\tLoss: 0.027241\n",
            "Train Epoch: 4 [12800/60000 (21%)]\tLoss: 0.055747\n",
            "Train Epoch: 4 [25600/60000 (43%)]\tLoss: 0.038114\n",
            "Train Epoch: 4 [38400/60000 (64%)]\tLoss: 0.039927\n",
            "Train Epoch: 4 [51200/60000 (85%)]\tLoss: 0.078975\n",
            "\n",
            "Test set: Average loss: 0.0627, Accuracy: 9795/10000 (98%)\n",
            "\n",
            "Train Epoch: 5 [0/60000 (0%)]\tLoss: 0.053381\n",
            "Train Epoch: 5 [12800/60000 (21%)]\tLoss: 0.068175\n",
            "Train Epoch: 5 [25600/60000 (43%)]\tLoss: 0.032066\n",
            "Train Epoch: 5 [38400/60000 (64%)]\tLoss: 0.044407\n",
            "Train Epoch: 5 [51200/60000 (85%)]\tLoss: 0.024708\n",
            "\n",
            "Test set: Average loss: 0.0579, Accuracy: 9814/10000 (98%)\n",
            "\n",
            "Train Epoch: 6 [0/60000 (0%)]\tLoss: 0.108069\n",
            "Train Epoch: 6 [12800/60000 (21%)]\tLoss: 0.065275\n",
            "Train Epoch: 6 [25600/60000 (43%)]\tLoss: 0.013368\n",
            "Train Epoch: 6 [38400/60000 (64%)]\tLoss: 0.093883\n",
            "Train Epoch: 6 [51200/60000 (85%)]\tLoss: 0.053842\n",
            "\n",
            "Test set: Average loss: 0.0475, Accuracy: 9841/10000 (98%)\n",
            "\n",
            "Train Epoch: 7 [0/60000 (0%)]\tLoss: 0.081046\n",
            "Train Epoch: 7 [12800/60000 (21%)]\tLoss: 0.075800\n",
            "Train Epoch: 7 [25600/60000 (43%)]\tLoss: 0.084469\n",
            "Train Epoch: 7 [38400/60000 (64%)]\tLoss: 0.076374\n",
            "Train Epoch: 7 [51200/60000 (85%)]\tLoss: 0.070688\n",
            "\n",
            "Test set: Average loss: 0.0417, Accuracy: 9868/10000 (99%)\n",
            "\n",
            "Train Epoch: 8 [0/60000 (0%)]\tLoss: 0.017845\n",
            "Train Epoch: 8 [12800/60000 (21%)]\tLoss: 0.018549\n",
            "Train Epoch: 8 [25600/60000 (43%)]\tLoss: 0.044287\n",
            "Train Epoch: 8 [38400/60000 (64%)]\tLoss: 0.035021\n",
            "Train Epoch: 8 [51200/60000 (85%)]\tLoss: 0.013556\n",
            "\n",
            "Test set: Average loss: 0.0503, Accuracy: 9836/10000 (98%)\n",
            "\n",
            "Train Epoch: 9 [0/60000 (0%)]\tLoss: 0.074984\n",
            "Train Epoch: 9 [12800/60000 (21%)]\tLoss: 0.050377\n",
            "Train Epoch: 9 [25600/60000 (43%)]\tLoss: 0.038597\n",
            "Train Epoch: 9 [38400/60000 (64%)]\tLoss: 0.010261\n",
            "Train Epoch: 9 [51200/60000 (85%)]\tLoss: 0.028906\n",
            "\n",
            "Test set: Average loss: 0.0347, Accuracy: 9885/10000 (99%)\n",
            "\n",
            "Train Epoch: 10 [0/60000 (0%)]\tLoss: 0.015327\n",
            "Train Epoch: 10 [12800/60000 (21%)]\tLoss: 0.025134\n",
            "Train Epoch: 10 [25600/60000 (43%)]\tLoss: 0.035149\n",
            "Train Epoch: 10 [38400/60000 (64%)]\tLoss: 0.017586\n",
            "Train Epoch: 10 [51200/60000 (85%)]\tLoss: 0.006304\n",
            "\n",
            "Test set: Average loss: 0.0337, Accuracy: 9900/10000 (99%)\n",
            "\n"
          ],
          "name": "stdout"
        }
      ]
    },
    {
      "cell_type": "markdown",
      "metadata": {
        "id": "PfY158w-qPzp",
        "colab_type": "text"
      },
      "source": [
        "### 3.4 Train NetWithBatchNorm() [5 pts]"
      ]
    },
    {
      "cell_type": "code",
      "metadata": {
        "id": "HNZ37bmqqPzp",
        "colab_type": "code",
        "outputId": "88aa4665-39ff-4268-c583-d1b115771604",
        "colab": {
          "base_uri": "https://localhost:8080/",
          "height": 1000
        }
      },
      "source": [
        "# Deifne model and sent to device\n",
        "model = NetWithBatchNorm()\n",
        "model.to(device)\n",
        "# Optimizer: SGD with learning rate of 1e-2 and momentum of 0.5\n",
        "optimizer = optim.SGD(model.parameters(), lr=1e-2, momentum=0.5)\n",
        "# Training loop with 10 epochs\n",
        "for epoch in range(1, 10 + 1):\n",
        "    pass # remove once implemented\n",
        "    \n",
        "    # Train model\n",
        "    train(model,train_loader=train_loader,optimizer=optimizer,epoch=epoch,device=device)\n",
        "    \n",
        "    # Test model\n",
        "    test(model, device, test_loader)"
      ],
      "execution_count": 0,
      "outputs": [
        {
          "output_type": "stream",
          "text": [
            "Train Epoch: 1 [0/60000 (0%)]\tLoss: 2.384663\n",
            "Train Epoch: 1 [12800/60000 (21%)]\tLoss: 0.253615\n",
            "Train Epoch: 1 [25600/60000 (43%)]\tLoss: 0.180125\n",
            "Train Epoch: 1 [38400/60000 (64%)]\tLoss: 0.175822\n",
            "Train Epoch: 1 [51200/60000 (85%)]\tLoss: 0.101595\n",
            "\n",
            "Test set: Average loss: 0.0842, Accuracy: 9789/10000 (98%)\n",
            "\n",
            "Train Epoch: 2 [0/60000 (0%)]\tLoss: 0.061999\n",
            "Train Epoch: 2 [12800/60000 (21%)]\tLoss: 0.034830\n",
            "Train Epoch: 2 [25600/60000 (43%)]\tLoss: 0.071145\n",
            "Train Epoch: 2 [38400/60000 (64%)]\tLoss: 0.069939\n",
            "Train Epoch: 2 [51200/60000 (85%)]\tLoss: 0.083341\n",
            "\n",
            "Test set: Average loss: 0.0529, Accuracy: 9863/10000 (99%)\n",
            "\n",
            "Train Epoch: 3 [0/60000 (0%)]\tLoss: 0.040457\n",
            "Train Epoch: 3 [12800/60000 (21%)]\tLoss: 0.069718\n",
            "Train Epoch: 3 [25600/60000 (43%)]\tLoss: 0.073432\n",
            "Train Epoch: 3 [38400/60000 (64%)]\tLoss: 0.026029\n",
            "Train Epoch: 3 [51200/60000 (85%)]\tLoss: 0.048201\n",
            "\n",
            "Test set: Average loss: 0.0409, Accuracy: 9892/10000 (99%)\n",
            "\n",
            "Train Epoch: 4 [0/60000 (0%)]\tLoss: 0.078840\n",
            "Train Epoch: 4 [12800/60000 (21%)]\tLoss: 0.031049\n",
            "Train Epoch: 4 [25600/60000 (43%)]\tLoss: 0.032893\n",
            "Train Epoch: 4 [38400/60000 (64%)]\tLoss: 0.017911\n",
            "Train Epoch: 4 [51200/60000 (85%)]\tLoss: 0.043357\n",
            "\n",
            "Test set: Average loss: 0.0373, Accuracy: 9887/10000 (99%)\n",
            "\n",
            "Train Epoch: 5 [0/60000 (0%)]\tLoss: 0.012027\n",
            "Train Epoch: 5 [12800/60000 (21%)]\tLoss: 0.044117\n",
            "Train Epoch: 5 [25600/60000 (43%)]\tLoss: 0.038026\n",
            "Train Epoch: 5 [38400/60000 (64%)]\tLoss: 0.017530\n",
            "Train Epoch: 5 [51200/60000 (85%)]\tLoss: 0.058855\n",
            "\n",
            "Test set: Average loss: 0.0334, Accuracy: 9899/10000 (99%)\n",
            "\n",
            "Train Epoch: 6 [0/60000 (0%)]\tLoss: 0.032990\n",
            "Train Epoch: 6 [12800/60000 (21%)]\tLoss: 0.019947\n",
            "Train Epoch: 6 [25600/60000 (43%)]\tLoss: 0.026521\n",
            "Train Epoch: 6 [38400/60000 (64%)]\tLoss: 0.019234\n",
            "Train Epoch: 6 [51200/60000 (85%)]\tLoss: 0.016820\n",
            "\n",
            "Test set: Average loss: 0.0311, Accuracy: 9908/10000 (99%)\n",
            "\n",
            "Train Epoch: 7 [0/60000 (0%)]\tLoss: 0.009812\n",
            "Train Epoch: 7 [12800/60000 (21%)]\tLoss: 0.021293\n",
            "Train Epoch: 7 [25600/60000 (43%)]\tLoss: 0.009232\n",
            "Train Epoch: 7 [38400/60000 (64%)]\tLoss: 0.011838\n",
            "Train Epoch: 7 [51200/60000 (85%)]\tLoss: 0.066646\n",
            "\n",
            "Test set: Average loss: 0.0306, Accuracy: 9905/10000 (99%)\n",
            "\n",
            "Train Epoch: 8 [0/60000 (0%)]\tLoss: 0.046683\n",
            "Train Epoch: 8 [12800/60000 (21%)]\tLoss: 0.022516\n",
            "Train Epoch: 8 [25600/60000 (43%)]\tLoss: 0.026913\n",
            "Train Epoch: 8 [38400/60000 (64%)]\tLoss: 0.021256\n",
            "Train Epoch: 8 [51200/60000 (85%)]\tLoss: 0.039247\n",
            "\n",
            "Test set: Average loss: 0.0282, Accuracy: 9915/10000 (99%)\n",
            "\n",
            "Train Epoch: 9 [0/60000 (0%)]\tLoss: 0.004682\n",
            "Train Epoch: 9 [12800/60000 (21%)]\tLoss: 0.004914\n",
            "Train Epoch: 9 [25600/60000 (43%)]\tLoss: 0.013739\n",
            "Train Epoch: 9 [38400/60000 (64%)]\tLoss: 0.012903\n",
            "Train Epoch: 9 [51200/60000 (85%)]\tLoss: 0.004987\n",
            "\n",
            "Test set: Average loss: 0.0272, Accuracy: 9910/10000 (99%)\n",
            "\n",
            "Train Epoch: 10 [0/60000 (0%)]\tLoss: 0.023874\n",
            "Train Epoch: 10 [12800/60000 (21%)]\tLoss: 0.035561\n",
            "Train Epoch: 10 [25600/60000 (43%)]\tLoss: 0.025829\n",
            "Train Epoch: 10 [38400/60000 (64%)]\tLoss: 0.006016\n",
            "Train Epoch: 10 [51200/60000 (85%)]\tLoss: 0.035271\n",
            "\n",
            "Test set: Average loss: 0.0243, Accuracy: 9921/10000 (99%)\n",
            "\n"
          ],
          "name": "stdout"
        }
      ]
    },
    {
      "cell_type": "markdown",
      "metadata": {
        "id": "hIvcfX2KqPzr",
        "colab_type": "text"
      },
      "source": [
        "## 4. Empirically, which of the models achieves higher accuracy faster? [2 pts]"
      ]
    },
    {
      "cell_type": "markdown",
      "metadata": {
        "id": "EYskewNxqPzr",
        "colab_type": "text"
      },
      "source": [
        "Answer: The CNN with batch normalization achieves higher accuracy faster in practical."
      ]
    },
    {
      "cell_type": "code",
      "metadata": {
        "id": "a-_PGLhGJnwQ",
        "colab_type": "code",
        "colab": {}
      },
      "source": [
        ""
      ],
      "execution_count": 0,
      "outputs": []
    }
  ]
}